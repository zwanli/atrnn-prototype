{
 "cells": [
  {
   "cell_type": "code",
   "execution_count": 1,
   "metadata": {
    "collapsed": true
   },
   "outputs": [],
   "source": [
    "import tensorflow as tf\n",
    "import argparse\n",
    "import time\n",
    "import os\n",
    "import numpy as np\n",
    "from six.moves import cPickle\n",
    "from evaluator import Evaluator\n",
    "from utils import textloader\n",
    "from model import Model\n",
    "import pickle"
   ]
  },
  {
   "cell_type": "code",
   "execution_count": 2,
   "metadata": {},
   "outputs": [
    {
     "name": "stdout",
     "output_type": "stream",
     "text": [
      "Loading embeddings  /home/wanli/data/glove.6B/glove.6B.200d.txt\nLoading abstracts\n"
     ]
    }
   ],
   "source": [
    "#Read text input\n",
    "batch_size = 1\n",
    "data_loader = textloader('/home/wanli/data/glove.6B/',batch_size)\n",
    "vocab_size = data_loader.vocab_size\n",
    "\n",
    "if os.path.exists('abstracrs_word_embeddings_dummy.pkl'):\n",
    "    print('Loading abstracts')\n",
    "    with open('abstracrs_word_embeddings_dummy.pkl', 'rb') as f:\n",
    "        data_loader.all_documents= pickle.load(f)"
   ]
  },
  {
   "cell_type": "code",
   "execution_count": 3,
   "metadata": {},
   "outputs": [
    {
     "name": "stdout",
     "output_type": "stream",
     "text": [
      "Loading ratings\n"
     ]
    }
   ],
   "source": [
    "print('Loading ratings')\n",
    "ratings_path = '/home/wanli/data/Extended_ctr/dummy/users.dat'\n",
    "data_loader.read_dataset(ratings_path,50,1928)#CHANGE ++++++++"
   ]
  },
  {
   "cell_type": "code",
   "execution_count": 5,
   "metadata": {
    "collapsed": false
   },
   "outputs": [
    {
     "name": "stdout",
     "output_type": "stream",
     "text": [
      "23\n8810\n57\n"
     ]
    },
    {
     "data": {
      "image/png": "[encoded data removed]",
      "text/plain": [
       "<matplotlib.figure.Figure at 0x7f1b6ebfbe48>"
      ]
     },
     "metadata": {},
     "output_type": "display_data"
    }
   ],
   "source": [
    "import matplotlib.pyplot as plt\n",
    "import numpy as np\n",
    "%matplotlib inline\n",
    "x = np.random.normal(size = 1000)\n",
    "lengths = []\n",
    "long_docs=0\n",
    "for d in data_loader.all_documents.values():\n",
    "    # if len(d) < 400:\n",
    "    lengths.append(len(d))\n",
    "    if len(d) < 75:\n",
    "        long_docs += 1\n",
    "print(long_docs)\n",
    "print(max(lengths))\n",
    "print(min(lengths))\n",
    "plt.hist(lengths, normed=True, bins=150)\n",
    "plt.ylabel('Probability');"
   ]
  },
  {
   "cell_type": "code",
   "execution_count": 4,
   "metadata": {},
   "outputs": [
    {
     "name": "stdout",
     "output_type": "stream",
     "text": [
      "[75, 125, 175, 225, 275, 325, 375, 425]\n"
     ]
    }
   ],
   "source": [
    "bucket_boundaries = [x for x in range (75,450,50)]\n",
    "print(bucket_boundaries)"
   ]
  },
  {
   "cell_type": "code",
   "execution_count": 6,
   "metadata": {},
   "outputs": [],
   "source": [
    "n_steps=1\n",
    "training = []\n",
    "label = []\n",
    "for u, v, r, d, step in data_loader.generate_batches(n_steps):\n",
    "    training.append((u,v,d,len(d)))\n",
    "label=np.ones(len(training))"
   ]
  },
  {
   "cell_type": "code",
   "execution_count": 7,
   "metadata": {},
   "outputs": [
    {
     "name": "stdout",
     "output_type": "stream",
     "text": [
      "1866\n1866\n"
     ]
    }
   ],
   "source": [
    "print(len(training))\n",
    "print(len(label))"
   ]
  },
  {
   "cell_type": "code",
   "execution_count": 17,
   "metadata": {
    "collapsed": false
   },
   "outputs": [
    {
     "ename": "NameError",
     "evalue": "name 'assertEqual' is not defined",
     "traceback": [
      "\u001b[1;31m---------------------------------------------------------------------------\u001b[0m",
      "\u001b[1;31mNameError\u001b[0m                                 Traceback (most recent call last)",
      "\u001b[1;32m<ipython-input-17-ef51dd3037d4>\u001b[0m in \u001b[0;36m<module>\u001b[1;34m()\u001b[0m\n\u001b[0;32m     23\u001b[0m                                                                      capacity= 2 * batch_size,dynamic_pad= True)\n\u001b[0;32m     24\u001b[0m \u001b[0mexpected_batch_size\u001b[0m \u001b[1;33m=\u001b[0m  \u001b[0mbatch_s\u001b[0m\u001b[1;33m\u001b[0m\u001b[0m\n\u001b[1;32m---> 25\u001b[1;33m assertEqual(out_lengths_t.get_shape().as_list(),\n\u001b[0m\u001b[0;32m     26\u001b[0m                  [expected_batch_size])\n\u001b[0;32m     27\u001b[0m assertEqual(data_and_labels_t[0].get_shape().as_list(),\n",
      "\u001b[1;31mNameError\u001b[0m: name 'assertEqual' is not defined"
     ],
     "output_type": "error"
    }
   ],
   "source": [
    "# lengths = tf.placeholder(tf.int32, ())\n",
    "batch_size = 128\n",
    "\n",
    "batch_s = batch_size\n",
    "\n",
    "input_text = tf.placeholder(tf.int32, [batch_s,None],name=\"Input_text\")\n",
    "seq_lengths = tf.placeholder(tf.int32, [batch_s])\n",
    "u_idx = tf.placeholder(tf.int32, [batch_s],name=\"U_matrix\")\n",
    "v_idx = tf.placeholder(tf.int32, [batch_s],name=\"V_matrix\")\n",
    "r = tf.placeholder(tf.float32, [batch_s],name=\"R_target\")\n",
    "\n",
    "input_queue = tf.FIFOQueue(\n",
    "      5000, (tf.int32,tf.int32, tf.int32, tf.int32,tf.float32),shapes=([batch_s,30],[batch_s],[batch_s],[batch_s],[batch_s]))\n",
    "input_enqueue_op = input_queue.enqueue((input_text, seq_lengths, u_idx,v_idx,r))\n",
    "input_t, lengths_t, u_idx_t, v_idx_t, r_t = input_queue.dequeue()\n",
    "close_input_op = input_queue.close()\n",
    "\n",
    "\n",
    "\n",
    "seq_len, outputs = tf.contrib.training.bucket_by_sequence_length(\n",
    "    128,tensors=[input_t, lengths_t, u_idx_t, v_idx_t, r_t],allow_smaller_final_batch=True,\\\n",
    "                                                                     batch_size=batch_size,bucket_boundaries=bucket_boundaries, \\\n",
    "                                                                     capacity= 2 * batch_size,dynamic_pad= True)\n",
    "expected_batch_size =  batch_s\n",
    "assertEqual(out_lengths_t.get_shape().as_list(),\n",
    "                 [expected_batch_size])\n",
    "assertEqual(data_and_labels_t[0].get_shape().as_list(),\n",
    "                 [expected_batch_size, data_len])\n",
    "assertEqual(data_and_labels_t[1].get_shape().as_list(),\n",
    "                 [expected_batch_size, labels_len])"
   ]
  },
  {
   "cell_type": "code",
   "execution_count": 27,
   "metadata": {
    "collapsed": true
   },
   "outputs": [
    {
     "name": "stdout",
     "output_type": "stream",
     "text": [
      "1929\n"
     ]
    }
   ],
   "source": [
    "batch_size = 128\n",
    "lengths = []\n",
    "for d in data_loader.all_documents.values():\n",
    "        lengths.append(len(d))\n",
    "print(len(lengths))\n",
    "# with tf.name_scope(\"batch_examples\"):\n",
    "#     seq_len, outputs = tf.contrib.training.bucket_by_sequence_length(lengths,data_loader.all_documents,batch_size,bucket_boundaries, \\\n",
    "#                                                                      capacity= 2 * batch_size,dynamic_pad= True)"
   ]
  },
  {
   "cell_type": "code",
   "execution_count": 18,
   "metadata": {},
   "outputs": [],
   "source": [
    "sess = tf.Session()\n",
    "\n",
    "sess.run(tf.global_variables_initializer())"
   ]
  },
  {
   "cell_type": "code",
   "execution_count": 21,
   "metadata": {},
   "outputs": [],
   "source": [
    "s, o = sess.run([seq_len,outputs])"
   ]
  },
  {
   "cell_type": "code",
   "execution_count": 17,
   "metadata": {
    "collapsed": false
   },
   "outputs": [
    {
     "ename": "ValueError",
     "evalue": "All shapes must be fully defined: [TensorShape([Dimension(128), Dimension(None)]), TensorShape([Dimension(128)]), TensorShape([]), TensorShape([]), TensorShape([])]",
     "traceback": [
      "\u001b[1;31m---------------------------------------------------------------------------\u001b[0m",
      "\u001b[1;31mValueError\u001b[0m                                Traceback (most recent call last)",
      "\u001b[1;32m<ipython-input-17-b523ef4473ad>\u001b[0m in \u001b[0;36m<module>\u001b[1;34m()\u001b[0m\n\u001b[0;32m     10\u001b[0m \u001b[1;33m\u001b[0m\u001b[0m\n\u001b[0;32m     11\u001b[0m input_queue = tf.FIFOQueue(\n\u001b[1;32m---> 12\u001b[1;33m           5000, (tf.int32,tf.int32, tf.int32, tf.int32,tf.float32),shapes=[[batch_size,None], (batch_size), (),(),()])\n\u001b[0m",
      "\u001b[1;32m/usr/local/lib/python3.5/dist-packages/tensorflow/python/ops/data_flow_ops.py\u001b[0m in \u001b[0;36m__init__\u001b[1;34m(self, capacity, dtypes, shapes, names, shared_name, name)\u001b[0m\n\u001b[0;32m    668\u001b[0m     \"\"\"\n\u001b[0;32m    669\u001b[0m     \u001b[0mdtypes\u001b[0m \u001b[1;33m=\u001b[0m \u001b[0m_as_type_list\u001b[0m\u001b[1;33m(\u001b[0m\u001b[0mdtypes\u001b[0m\u001b[1;33m)\u001b[0m\u001b[1;33m\u001b[0m\u001b[0m\n\u001b[1;32m--> 670\u001b[1;33m     \u001b[0mshapes\u001b[0m \u001b[1;33m=\u001b[0m \u001b[0m_as_shape_list\u001b[0m\u001b[1;33m(\u001b[0m\u001b[0mshapes\u001b[0m\u001b[1;33m,\u001b[0m \u001b[0mdtypes\u001b[0m\u001b[1;33m)\u001b[0m\u001b[1;33m\u001b[0m\u001b[0m\n\u001b[0m\u001b[0;32m    671\u001b[0m     \u001b[0mnames\u001b[0m \u001b[1;33m=\u001b[0m \u001b[0m_as_name_list\u001b[0m\u001b[1;33m(\u001b[0m\u001b[0mnames\u001b[0m\u001b[1;33m,\u001b[0m \u001b[0mdtypes\u001b[0m\u001b[1;33m)\u001b[0m\u001b[1;33m\u001b[0m\u001b[0m\n\u001b[0;32m    672\u001b[0m     queue_ref = gen_data_flow_ops._fifo_queue_v2(\n",
      "\u001b[1;32m/usr/local/lib/python3.5/dist-packages/tensorflow/python/ops/data_flow_ops.py\u001b[0m in \u001b[0;36m_as_shape_list\u001b[1;34m(shapes, dtypes, unknown_dim_allowed, unknown_rank_allowed)\u001b[0m\n\u001b[0;32m     75\u001b[0m   \u001b[1;32mif\u001b[0m \u001b[1;32mnot\u001b[0m \u001b[0munknown_dim_allowed\u001b[0m\u001b[1;33m:\u001b[0m\u001b[1;33m\u001b[0m\u001b[0m\n\u001b[0;32m     76\u001b[0m     \u001b[1;32mif\u001b[0m \u001b[0many\u001b[0m\u001b[1;33m(\u001b[0m\u001b[1;33m[\u001b[0m\u001b[1;32mnot\u001b[0m \u001b[0mshape\u001b[0m\u001b[1;33m.\u001b[0m\u001b[0mis_fully_defined\u001b[0m\u001b[1;33m(\u001b[0m\u001b[1;33m)\u001b[0m \u001b[1;32mfor\u001b[0m \u001b[0mshape\u001b[0m \u001b[1;32min\u001b[0m \u001b[0mshapes\u001b[0m\u001b[1;33m]\u001b[0m\u001b[1;33m)\u001b[0m\u001b[1;33m:\u001b[0m\u001b[1;33m\u001b[0m\u001b[0m\n\u001b[1;32m---> 77\u001b[1;33m       \u001b[1;32mraise\u001b[0m \u001b[0mValueError\u001b[0m\u001b[1;33m(\u001b[0m\u001b[1;34m\"All shapes must be fully defined: %s\"\u001b[0m \u001b[1;33m%\u001b[0m \u001b[0mshapes\u001b[0m\u001b[1;33m)\u001b[0m\u001b[1;33m\u001b[0m\u001b[0m\n\u001b[0m\u001b[0;32m     78\u001b[0m   \u001b[1;32mif\u001b[0m \u001b[1;32mnot\u001b[0m \u001b[0munknown_rank_allowed\u001b[0m\u001b[1;33m:\u001b[0m\u001b[1;33m\u001b[0m\u001b[0m\n\u001b[0;32m     79\u001b[0m     \u001b[1;32mif\u001b[0m \u001b[0many\u001b[0m\u001b[1;33m(\u001b[0m\u001b[1;33m[\u001b[0m\u001b[0mshape\u001b[0m\u001b[1;33m.\u001b[0m\u001b[0mdims\u001b[0m \u001b[1;32mis\u001b[0m \u001b[1;32mNone\u001b[0m \u001b[1;32mfor\u001b[0m \u001b[0mshape\u001b[0m \u001b[1;32min\u001b[0m \u001b[0mshapes\u001b[0m\u001b[1;33m]\u001b[0m\u001b[1;33m)\u001b[0m\u001b[1;33m:\u001b[0m\u001b[1;33m\u001b[0m\u001b[0m\n",
      "\u001b[1;31mValueError\u001b[0m: All shapes must be fully defined: [TensorShape([Dimension(128), Dimension(None)]), TensorShape([Dimension(128)]), TensorShape([]), TensorShape([]), TensorShape([])]"
     ],
     "output_type": "error"
    }
   ],
   "source": [
    "batch_size = 128\n",
    "\n",
    "input_text = tf.placeholder(tf.int32, [batch_size,None],name=\"Input_text\")\n",
    "seq_lengths = tf.placeholder(tf.int32, [batch_size])\n",
    "u_idx = tf.placeholder(tf.int32, [None],name=\"U_matrix\")\n",
    "v_idx = tf.placeholder(tf.int32, [None],name=\"V_matrix\")\n",
    "r = tf.placeholder(tf.float32, [None],name=\"R_target\")\n",
    "\n",
    "in_shape =input_text.get_shape().as_list()\n",
    "\n",
    "input_queue = tf.FIFOQueue(\n",
    "          5000, (tf.int32,tf.int32, tf.int32, tf.int32,tf.float32),shapes=[[batch_size,None], (batch_size), (),(),()])"
   ]
  },
  {
   "cell_type": "code",
   "execution_count": 14,
   "metadata": {},
   "outputs": [
    {
     "name": "stdout",
     "output_type": "stream",
     "text": [
      "[TensorShape([Dimension(128)]), TensorShape([Dimension(128)]), TensorShape([]), TensorShape([]), TensorShape([])]\n"
     ]
    }
   ],
   "source": [
    "print(input_queue.shapes)"
   ]
  },
  {
   "cell_type": "code",
   "execution_count": 15,
   "metadata": {},
   "outputs": [
    {
     "ename": "ValueError",
     "evalue": "Shapes (128, ?) and (128,) are incompatible",
     "traceback": [
      "\u001b[1;31m---------------------------------------------------------------------------\u001b[0m",
      "\u001b[1;31mValueError\u001b[0m                                Traceback (most recent call last)",
      "\u001b[1;32m<ipython-input-15-5db792e5a020>\u001b[0m in \u001b[0;36m<module>\u001b[1;34m()\u001b[0m\n\u001b[1;32m----> 1\u001b[1;33m \u001b[0minput_enqueue_op\u001b[0m \u001b[1;33m=\u001b[0m \u001b[0minput_queue\u001b[0m\u001b[1;33m.\u001b[0m\u001b[0menqueue\u001b[0m\u001b[1;33m(\u001b[0m\u001b[1;33m(\u001b[0m\u001b[0minput_text\u001b[0m\u001b[1;33m,\u001b[0m \u001b[0mseq_lengths\u001b[0m\u001b[1;33m,\u001b[0m \u001b[0mu_idx\u001b[0m\u001b[1;33m,\u001b[0m\u001b[0mv_idx\u001b[0m\u001b[1;33m,\u001b[0m\u001b[0mr\u001b[0m\u001b[1;33m)\u001b[0m\u001b[1;33m)\u001b[0m\u001b[1;33m\u001b[0m\u001b[0m\n\u001b[0m\u001b[0;32m      2\u001b[0m \u001b[0minput_t\u001b[0m\u001b[1;33m,\u001b[0m \u001b[0mlengths_t\u001b[0m\u001b[1;33m,\u001b[0m \u001b[0mu_idx_t\u001b[0m\u001b[1;33m,\u001b[0m \u001b[0mv_idx_t\u001b[0m\u001b[1;33m,\u001b[0m \u001b[0mr_t\u001b[0m \u001b[1;33m=\u001b[0m \u001b[0minput_queue\u001b[0m\u001b[1;33m.\u001b[0m\u001b[0mdequeue\u001b[0m\u001b[1;33m(\u001b[0m\u001b[1;33m)\u001b[0m\u001b[1;33m\u001b[0m\u001b[0m\n\u001b[0;32m      3\u001b[0m \u001b[0mclose_input_op\u001b[0m \u001b[1;33m=\u001b[0m \u001b[0minput_queue\u001b[0m\u001b[1;33m.\u001b[0m\u001b[0mclose\u001b[0m\u001b[1;33m(\u001b[0m\u001b[1;33m)\u001b[0m\u001b[1;33m\u001b[0m\u001b[0m\n",
      "\u001b[1;32m/usr/local/lib/python3.5/dist-packages/tensorflow/python/ops/data_flow_ops.py\u001b[0m in \u001b[0;36menqueue\u001b[1;34m(self, vals, name)\u001b[0m\n\u001b[0;32m    316\u001b[0m       \u001b[1;31m# the `QueueBase` object.\u001b[0m\u001b[1;33m\u001b[0m\u001b[1;33m\u001b[0m\u001b[0m\n\u001b[0;32m    317\u001b[0m       \u001b[1;32mfor\u001b[0m \u001b[0mval\u001b[0m\u001b[1;33m,\u001b[0m \u001b[0mshape\u001b[0m \u001b[1;32min\u001b[0m \u001b[0mzip\u001b[0m\u001b[1;33m(\u001b[0m\u001b[0mvals\u001b[0m\u001b[1;33m,\u001b[0m \u001b[0mself\u001b[0m\u001b[1;33m.\u001b[0m\u001b[0m_shapes\u001b[0m\u001b[1;33m)\u001b[0m\u001b[1;33m:\u001b[0m\u001b[1;33m\u001b[0m\u001b[0m\n\u001b[1;32m--> 318\u001b[1;33m         \u001b[0mval\u001b[0m\u001b[1;33m.\u001b[0m\u001b[0mget_shape\u001b[0m\u001b[1;33m(\u001b[0m\u001b[1;33m)\u001b[0m\u001b[1;33m.\u001b[0m\u001b[0massert_is_compatible_with\u001b[0m\u001b[1;33m(\u001b[0m\u001b[0mshape\u001b[0m\u001b[1;33m)\u001b[0m\u001b[1;33m\u001b[0m\u001b[0m\n\u001b[0m\u001b[0;32m    319\u001b[0m \u001b[1;33m\u001b[0m\u001b[0m\n\u001b[0;32m    320\u001b[0m       \u001b[1;32mif\u001b[0m \u001b[0mself\u001b[0m\u001b[1;33m.\u001b[0m\u001b[0m_queue_ref\u001b[0m\u001b[1;33m.\u001b[0m\u001b[0mdtype\u001b[0m \u001b[1;33m==\u001b[0m \u001b[0m_dtypes\u001b[0m\u001b[1;33m.\u001b[0m\u001b[0mresource\u001b[0m\u001b[1;33m:\u001b[0m\u001b[1;33m\u001b[0m\u001b[0m\n",
      "\u001b[1;32m/usr/local/lib/python3.5/dist-packages/tensorflow/python/framework/tensor_shape.py\u001b[0m in \u001b[0;36massert_is_compatible_with\u001b[1;34m(self, other)\u001b[0m\n\u001b[0;32m    733\u001b[0m     \"\"\"\n\u001b[0;32m    734\u001b[0m     \u001b[1;32mif\u001b[0m \u001b[1;32mnot\u001b[0m \u001b[0mself\u001b[0m\u001b[1;33m.\u001b[0m\u001b[0mis_compatible_with\u001b[0m\u001b[1;33m(\u001b[0m\u001b[0mother\u001b[0m\u001b[1;33m)\u001b[0m\u001b[1;33m:\u001b[0m\u001b[1;33m\u001b[0m\u001b[0m\n\u001b[1;32m--> 735\u001b[1;33m       \u001b[1;32mraise\u001b[0m \u001b[0mValueError\u001b[0m\u001b[1;33m(\u001b[0m\u001b[1;34m\"Shapes %s and %s are incompatible\"\u001b[0m \u001b[1;33m%\u001b[0m \u001b[1;33m(\u001b[0m\u001b[0mself\u001b[0m\u001b[1;33m,\u001b[0m \u001b[0mother\u001b[0m\u001b[1;33m)\u001b[0m\u001b[1;33m)\u001b[0m\u001b[1;33m\u001b[0m\u001b[0m\n\u001b[0m\u001b[0;32m    736\u001b[0m \u001b[1;33m\u001b[0m\u001b[0m\n\u001b[0;32m    737\u001b[0m   \u001b[1;32mdef\u001b[0m \u001b[0mis_fully_defined\u001b[0m\u001b[1;33m(\u001b[0m\u001b[0mself\u001b[0m\u001b[1;33m)\u001b[0m\u001b[1;33m:\u001b[0m\u001b[1;33m\u001b[0m\u001b[0m\n",
      "\u001b[1;31mValueError\u001b[0m: Shapes (128, ?) and (128,) are incompatible"
     ],
     "output_type": "error"
    }
   ],
   "source": [
    "input_enqueue_op = input_queue.enqueue((input_text, seq_lengths, u_idx,v_idx,r))\n",
    "input_t, lengths_t, u_idx_t, v_idx_t, r_t = input_queue.dequeue()\n",
    "close_input_op = input_queue.close()"
   ]
  },
  {
   "cell_type": "code",
   "execution_count": 26,
   "metadata": {},
   "outputs": [
    {
     "name": "stdout",
     "output_type": "stream",
     "text": [
      "<unknown>\n"
     ]
    }
   ],
   "source": [
    "print(lengths_t.get_shape())"
   ]
  },
  {
   "cell_type": "code",
   "execution_count": 5,
   "metadata": {},
   "outputs": [
    {
     "name": "stdout",
     "output_type": "stream",
     "text": [
      "source_output [0]\n[[5 3 4]\n [1 3 4]]\ntarget_output [0]\n[[9 3 4 6]\n [9 3 4 0]]\n\nsource_output [1]\n[[2 3 4]\n [6 3 4]]\ntarget_output [1]\n[[9 3 4 5]\n [9 3 0 0]]\n\nsource_output [2]\n[[3 4]\n [3 4]]\ntarget_output [2]\n[[9]\n [9]]\n\nsource_output [3]\n[[2 3 4]\n [6 3 4]]\ntarget_output [3]\n[[9 3 4 5]\n [9 3 0 0]]\n\nsource_output [4]\n[[5 3 4]\n [1 3 4]]\ntarget_output [4]\n[[9 3 4 6]\n [9 3 4 0]]\n\nsource_output [5]\n[[3 3 3 3 3 3]\n [3 3 3 3 3 3]]\ntarget_output [5]\n[[9 3 3 3 3 3 2]\n [9 3 3 3 3 3 2]]\n\n"
     ]
    }
   ],
   "source": [
    "import numpy as np\n",
    "import tensorflow as tf\n",
    "\n",
    "\n",
    "class SequenceTable:\n",
    "    def __init__(self, data):\n",
    "        # A TensorArray is required as the sequences don't have the same\n",
    "        # length. Alternatively a FIFOQueue can be used.\n",
    "        # Because the data is read more than once by the queue,\n",
    "        # clear_after_read is set to False (but I can't confirm an effect).\n",
    "        # Because the items has diffrent sequence lengths the infer_shape\n",
    "        # is set to False. The shape is then restored in the .read method.\n",
    "        self.table = tf.TensorArray(size=len(data),\n",
    "                                    dtype=data[0].dtype,\n",
    "                                    dynamic_size=False,\n",
    "                                    clear_after_read=False,\n",
    "                                    infer_shape=False)\n",
    "\n",
    "        # initialize table\n",
    "        for i, datum in enumerate(data):\n",
    "            self.table = self.table.write(i, datum)\n",
    "\n",
    "        # setup infered element shape\n",
    "        self.element_shape = tf.TensorShape((None, ) + data[0].shape[1:])\n",
    "\n",
    "    def read(self, index):\n",
    "        # read index from table and set infered shape\n",
    "        read = self.table.read(index)\n",
    "        read.set_shape(self.element_shape)\n",
    "        return read\n",
    "\n",
    "\n",
    "def shuffle_bucket_batch(input_length, tensors, shuffle=True, **kwargs):\n",
    "    # bucket_by_sequence_length requires the input_length and tensors\n",
    "    # arguments to be queues. Use a range_input_producer queue to shuffle\n",
    "    # an index for sliceing the input_length and tensors laters.\n",
    "    # This strategy is idendical to the one used in slice_input_producer.\n",
    "    table_index = tf.train.range_input_producer(\n",
    "        int(input_length.get_shape()[0]), shuffle=shuffle\n",
    "    ).dequeue()\n",
    "\n",
    "    # the first argument is the sequence length specifed in the input_length\n",
    "    # I did not find a ue for it.\n",
    "    _, batch_tensors = tf.contrib.training.bucket_by_sequence_length(\n",
    "        input_length=tf.gather(input_length, table_index),\n",
    "        tensors=[tensor.read(table_index) for tensor in tensors],\n",
    "        **kwargs\n",
    "    )\n",
    "\n",
    "    return tuple(batch_tensors)\n",
    "\n",
    "\n",
    "# these values specify the length of the sequence and this controls how\n",
    "# the data is bucketed. The value is not required to be the acutal length,\n",
    "# which is also problematic when using pairs of sequences that have diffrent\n",
    "# length. In that case just specify a value that gives the best performance,\n",
    "# for example \"the max length\".\n",
    "length_table = tf.constant([2, 4, 3, 4, 3, 7], dtype=tf.int32)\n",
    "\n",
    "source_table = SequenceTable([\n",
    "    np.asarray([3, 4], dtype=np.int32),\n",
    "    np.asarray([2, 3, 4], dtype=np.int32),\n",
    "    np.asarray([1, 3, 4], dtype=np.int32),\n",
    "    np.asarray([5, 3, 4], dtype=np.int32),\n",
    "    np.asarray([6, 3, 4], dtype=np.int32),\n",
    "    np.asarray([3, 3, 3, 3, 3, 3], dtype=np.int32)\n",
    "])\n",
    "\n",
    "target_table = SequenceTable([\n",
    "    np.asarray([9], dtype=np.int32),\n",
    "    np.asarray([9, 3, 4, 5], dtype=np.int32),\n",
    "    np.asarray([9, 3, 4], dtype=np.int32),\n",
    "    np.asarray([9, 3, 4, 6], dtype=np.int32),\n",
    "    np.asarray([9, 3], dtype=np.int32),\n",
    "    np.asarray([9, 3, 3, 3, 3, 3, 2], dtype=np.int32)\n",
    "])\n",
    "\n",
    "source_batch, target_batch = shuffle_bucket_batch(\n",
    "    length_table, [source_table, target_table],\n",
    "    batch_size=2,\n",
    "    # devices buckets into [len < 3, 3 <= len < 5, 5 <= len]\n",
    "    bucket_boundaries=[3, 5],\n",
    "    # this will bad the source_batch and target_batch independently\n",
    "    dynamic_pad=True,\n",
    "    capacity=2\n",
    ")\n",
    "\n",
    "with tf.Session() as sess:\n",
    "    coord = tf.train.Coordinator()\n",
    "    threads = tf.train.start_queue_runners(sess, coord)\n",
    "\n",
    "    for i in range(6):\n",
    "        source, target = sess.run((source_batch, target_batch))\n",
    "        print('source_output [{0}]'.format(i))\n",
    "        print(source)\n",
    "        print('target_output [{0}]'.format(i))\n",
    "        print(target)\n",
    "        print('')\n",
    "\n",
    "    coord.request_stop()\n",
    "    coord.join(threads)"
   ]
  },
  {
   "cell_type": "code",
   "execution_count": 31,
   "metadata": {
    "collapsed": false
   },
   "outputs": [
    {
     "name": "stdout",
     "output_type": "stream",
     "text": [
      "number of samples 85\n"
     ]
    },
    {
     "name": "stdout",
     "output_type": "stream",
     "text": [
      "48 1208\n20 872\n26 947\n37 46\n13 710\n12 647\n39 832\n20 258\n20 295\n12 1171\n37 467\n39 832\n21 876\n20 872\n13 710\n20 528\n21 751\n20 258\n44 375\n49 537\n10 416\n20 883\n20 885\n21 751\n20 872\n37 46\n46 111\n20 844\n26 947\n21 751\n21 666\n20 258\n21 881\n20 751\n12 1171\n49 657\n20 181\n21 751\n20 295\n4 804\n4 804\n47 277\n21 514\n21 881\n47 277\n21 666\n39 836\n21 737\n49 1310\n20 751\n20 181\n20 181\n20 827\n20 827\n12 41\n20 844\n20 837\n21 876\n20 844\n44 375\n13 63\n46 1597\n21 666\n46 111\n49 1310\n23 110\n37 467\n11 62\n4 804\n10 416\n10 56\n22 822\n23 110\n13 63\n39 832\n47 277\n43 232\n21 881\n23 1208\n49 355\n49 1310\n21 751\n20 872\n43 232\n49 355\n"
     ]
    }
   ],
   "source": [
    "import tensorflow as tf\n",
    "def num_samples(path):\n",
    "    c = 0\n",
    "    for record in tf.python_io.tf_record_iterator(path):\n",
    "        example_proto = tf.train.SequenceExample()\n",
    "        example_proto.ParseFromString(record)\n",
    "        c += 1\n",
    "    return c\n",
    "\n",
    "def _parse_function(sequence_example_proto):\n",
    "        context_feature = {'u': tf.FixedLenFeature([], tf.int64),\n",
    "                           'v': tf.FixedLenFeature([], tf.int64),\n",
    "                           'r': tf.FixedLenFeature([], tf.int64),\n",
    "                           'abs_length': tf.FixedLenFeature([], tf.int64)}\n",
    "\n",
    "        sequence_feature = {'abstract': tf.FixedLenSequenceFeature([], tf.int64)}\n",
    "\n",
    "        # Decode the record read by the reader\n",
    "        context_feature, sequence_feature = tf.parse_single_sequence_example(sequence_example_proto,\n",
    "                                                                             context_features=context_feature,\n",
    "                                                                             sequence_features=sequence_feature)\n",
    "        u = tf.cast(context_feature['u'], tf.int32)\n",
    "        v = tf.cast(context_feature['v'], tf.int32)\n",
    "        r = tf.cast(context_feature['r'], tf.int32)\n",
    "        abs_length = tf.cast(context_feature['abs_length'], tf.int32)\n",
    "        abstract = tf.cast(sequence_feature['abstract'], tf.int32)\n",
    "        return u, v, r, abstract, abs_length\n",
    "def input(batch_size):\n",
    "    filename ='/home/wanli/data/Extended_ctr/dummy_test_0.tfrecords'\n",
    "    print ('number of samples {0}'.format(num_samples(filename)))\n",
    "    dataset = tf.contrib.data.TFRecordDataset(filename)\n",
    "    \n",
    "    # Repeat the input indefinitely.\n",
    "    dataset = dataset.repeat()\n",
    "    # Parse the record into tensors.\n",
    "    dataset = dataset.map(_parse_function)\n",
    "    # Shuffle the dataset\n",
    "    dataset = dataset.shuffle(buffer_size=10000)\n",
    "    # Generate batches\n",
    "    # dataset = dataset.batch(128)\n",
    "    \n",
    "    # iterator = dataset.make_initializable_iterator()\n",
    "    # print(dataset.output_types)  # ==> (tf.float32, (tf.float32, tf.int32))\n",
    "    # print(dataset.output_shapes)  # ==> \"(10, ((), (100,)))\"\n",
    "    \n",
    "    dataset = dataset.padded_batch(128, padded_shapes=((), (), (), [None], ()))\n",
    "    # Create a one-shot iterator\n",
    "    iterator = dataset.make_one_shot_iterator()\n",
    "    next_element = iterator.get_next()\n",
    "    return next_element \n",
    "# with tf.Session() as sess:\n",
    "#     for i in range(100):\n",
    "#         record = sess.run(next_element)\n",
    "batch_size = 85\n",
    "next_element = input(batch_size)\n",
    "pairs = {}\n",
    "with tf.Session() as sess:\n",
    "    for i in range(1):\n",
    "        record = sess.run(next_element)\n",
    "        for j in range(batch_size):\n",
    "            print(record[0][j],record[1][j])\n",
    "            for i in range"
   ]
  },
  {
   "cell_type": "code",
   "execution_count": null,
   "metadata": {},
   "outputs": [],
   "source": [
    ""
   ]
  }
 ],
 "metadata": {
  "kernelspec": {
   "display_name": "Python 2",
   "language": "python",
   "name": "python2"
  },
  "language_info": {
   "codemirror_mode": {
    "name": "ipython",
    "version": 2.0
   },
   "file_extension": ".py",
   "mimetype": "text/x-python",
   "name": "python",
   "nbconvert_exporter": "python",
   "pygments_lexer": "ipython2",
   "version": "2.7.6"
  }
 },
 "nbformat": 4,
 "nbformat_minor": 0
}