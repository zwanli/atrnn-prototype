{
 "cells": [
  {
   "cell_type": "code",
   "execution_count": 1,
   "metadata": {},
   "outputs": [],
   "source": [
    "import os\n",
    "import csv\n",
    "from nltk.tokenize import sent_tokenize\n",
    "from nltk.tokenize import word_tokenize\n",
    "import argparse\n",
    "import ntpath\n",
    "import sys\n",
    "import tensorflow as tf\n",
    "import numpy as np\n",
    "import datetime\n",
    "from prettytable import PrettyTable\n",
    "import pandas as pd\n",
    "import matplotlib.pyplot as plt\n",
    "import matplotlib\n",
    "%matplotlib inline\n",
    "from preprocessing import is_number"
   ]
  },
  {
   "cell_type": "code",
   "execution_count": 3,
   "metadata": {
    "collapsed": false
   },
   "outputs": [
    {
     "name": "stderr",
     "output_type": "stream",
     "text": [
      "/usr/local/lib/python3.5/dist-packages/ipykernel_launcher.py:49: ParserWarning: Both a converter and dtype were specified for column doc_id - only the converter will be used\n/usr/local/lib/python3.5/dist-packages/ipykernel_launcher.py:49: ParserWarning: Both a converter and dtype were specified for column citeulike_id - only the converter will be used\n/usr/local/lib/python3.5/dist-packages/ipykernel_launcher.py:49: ParserWarning: Both a converter and dtype were specified for column pages - only the converter will be used\n"
     ]
    }
   ],
   "source": [
    "path = '/home/wanli/data/Extended_ctr/citeulike_a_extended/paper_info.csv'\n",
    "path = '/home/wanli/data/Extended_ctr/citeulike_a_extended/papers_info_corrected_pages_years.csv'\n",
    "null_token = 'NaN'\n",
    "now = datetime.datetime.now()\n",
    "    \n",
    "clean_file_path = path +'.cleaned'\n",
    "\n",
    "\n",
    "# Month converter\n",
    "months = ['apr','aug', 'dec','feb', 'jan' ,'jul' ,'jun' ,'mar' ,'may', 'nov', 'oct', 'sep']\n",
    "month_convert_func = lambda x: x if x in months else null_token\n",
    "\n",
    "def number_convert_func (x):\n",
    "    if x == '-1':\n",
    "        return null_token\n",
    "    if is_number(x):\n",
    "        if x == 'NaN':\n",
    "            return null_token\n",
    "        x = float(x)\n",
    "        x = int(x)\n",
    "        return x\n",
    "    return null_token\n",
    "\n",
    "def year_convert_func (x):\n",
    "    if is_number(x):\n",
    "        if x == 'NaN':\n",
    "            return null_token\n",
    "        x = float(x)\n",
    "        x = int(x)\n",
    "        if x < 1000:\n",
    "            return null_token\n",
    "        return now.year - x\n",
    "    else:\n",
    "        return null_token\n",
    "\n",
    "labels = ['doc_id', 'citeulike_id', 'type', 'pages', 'year']\n",
    "labels_dtype = {'doc_id': np.int32, 'citeulike_id': np.int32, 'type': str, 'pages': np.int32}\n",
    "convert_func= {'pages': number_convert_func, 'doc_id': number_convert_func, 'year': year_convert_func,\n",
    "               'citeulike_id': number_convert_func}\n",
    "# labels = ['doc_id', 'citeulike_id', 'type', 'journal', 'booktitle', 'series', 'pages', 'year', 'month', 'address']\n",
    "# labels_dtype = {'doc_id': np.int32, 'citeulike_id': np.int32, 'type': str, 'journal': str, 'booktitle': str,\n",
    "#                 'series': str,\n",
    "#                 'pages': np.int32, 'month': str, 'address': str}\n",
    "# convert_func = {'month': month_convert_func, 'pages': number_convert_func, 'doc_id': number_convert_func,\n",
    "#                 'citeulike_id': number_convert_func}\n",
    "\n",
    "df = pd.read_table(clean_file_path, delimiter='\\t', index_col = 'doc_id', usecols=labels,dtype=labels_dtype,\n",
    "                     na_values='\\\\N',na_filter=False,\n",
    "                     converters=convert_func)"
   ]
  },
  {
   "cell_type": "code",
   "execution_count": 4,
   "metadata": {
    "collapsed": false
   },
   "outputs": [
    {
     "name": "stdout",
     "output_type": "stream",
     "text": [
      "(16981, 4)\nciteulike_id    16962\ntype               15\npages             129\nyear               85\ndtype: int64\n"
     ]
    }
   ],
   "source": [
    "print(df.shape)\n",
    "# count of unique values:\n",
    "print (df.apply(pd.Series.nunique))"
   ]
  },
  {
   "cell_type": "code",
   "execution_count": 5,
   "metadata": {
    "collapsed": true
   },
   "outputs": [
    {
     "name": "stdout",
     "output_type": "stream",
     "text": [
      "(16981, 4)\nciteulike_id    16962\ntype               15\npages             129\nyear               85\ndtype: int64\n"
     ]
    }
   ],
   "source": [
    "#Filter values with frequency less than min_freq\n",
    "def filter(df, tofilter_list, min_freq):\n",
    "    for col in tofilter_list:\n",
    "        to_keep =  df[col].value_counts().reset_index(name=\"count\").query(\"count > %d\" %min_freq)[\"index\"]\n",
    "        to_keep = to_keep.values.tolist()\n",
    "        df[col] = [x if x in to_keep else 'NaN' for x in df[col] ]\n",
    "    return df\n",
    "\n",
    "tofilter_list = []\n",
    "df = filter(df,tofilter_list,2)\n",
    "print(df.shape)\n",
    "print (df.apply(pd.Series.nunique))\n",
    "\n",
    "# \n",
    "# # Convert catigorical feature into one-hot encoding\n",
    "# def dummmy_df(df, todummy_list):\n",
    "#     for x in todummy_list:\n",
    "#         dummies = pd.get_dummies(df[x], prefix=x, dummy_na=True)\n",
    "#         df = df.drop(x,1)\n",
    "#         df = pd.concat([df,dummies], axis=1)\n",
    "#     return df\n",
    "\n",
    "# todummy_list = ['type']\n",
    "# df_dummy = dummmy_df(df,todummy_list)\n",
    "# # print(df_dummy.head(2))\n",
    "# # print (df2)\n",
    "# print('----------------------------')\n",
    "# # print (df_dummy['journal'].value_counts())\n",
    "# # .reset_index(name=\"count\").query(\"count > 3\")[\"index\"]\n",
    "# print('----------------------------')\n",
    "# print(df_dummy.shape)\n",
    "# print (df_dummy.apply(pd.Series.nunique))"
   ]
  },
  {
   "cell_type": "code",
   "execution_count": 6,
   "metadata": {
    "collapsed": true
   },
   "outputs": [
    {
     "name": "stdout",
     "output_type": "stream",
     "text": [
      "['NaN' 4 5 8 7 12 2 3 28 10 17 9 42 203 14 11 6 20 19 18 16 56 13 29 41 39\n 15 40 22 31 25 23 59 27 48 33 35 34 51 30 60 43 32 24 83 1 21 70 37 46 62\n 53 45 26 36 38 47 44 50 74 57 49 573 -187 -191 -297 90 54 52 63 -64 55 97\n 65 77 -33 85 261 58 66 108 71 -194 75 68 88 93 73 117 92 78 64 152 61 133\n -398 -3 -51 5992 -2 3643 132 -23 87 -22 76 104 -437 -14 89 143 144 -155\n 1575 1836 103 72 -1 395 134 124 553 -140 -15 129 69 1694 -93 3808]\nNaN     5649\n5       1035\n7       1008\n9        946\n4        781\n3        773\n6        763\n11       666\n8        645\n10       546\n12       419\n13       360\n2        315\n14       310\n15       240\n1        227\n16       196\n17       180\n19       139\n18       138\n20       130\n21       119\n22       106\n24        88\n23        83\n25        70\n27        70\n29        69\n30        68\n26        64\n        ... \n-22        1\n-64        1\n-23        1\n-51        1\n1575       1\n63         1\n553        1\n395        1\n69         1\n71         1\n72         1\n73         1\n78         1\n83         1\n89         1\n103        1\n108        1\n117        1\n-1         1\n124        1\n129        1\n132        1\n133        1\n-3         1\n143        1\n144        1\n152        1\n203        1\n261        1\n134        1\nName: pages, Length: 129, dtype: int64\n"
     ]
    }
   ],
   "source": [
    "print (df.pages.unique())\n",
    "print (df.pages.value_counts())"
   ]
  },
  {
   "cell_type": "code",
   "execution_count": 7,
   "metadata": {
    "collapsed": false
   },
   "outputs": [
    {
     "name": "stdout",
     "output_type": "stream",
     "text": [
      "['NaN' 4 5 ..., 8 'NaN' 3]\n(array([-10,  -5,  -3,  -2,  -1,   1,   2,   3,   4,   5,   6,   7,   8,\n         9,  10,  11,  12,  13,  14,  15,  16,  17,  18,  19,  20,  21,\n        22,  23,  24,  25,  26,  27,  28,  29,  30,  31,  32,  33,  34,\n        35,  36,  37,  38,  39,  40,  41,  42,  43,  44,  45,  46,  47,\n        48,  49,  50,  51,  52,  53,  54,  55,  56,  57,  58,  59,  60,\n        61,  62,  63,  64,  65,  66,  68,  69,  70,  71,  72,  73,  74,\n        75,  76,  77,  78,  80]), array([  16, 5649,    1,    2,    1,  227,  315,  773,  781, 1035,  763,\n       1008,  645,  946,  546,  666,  419,  360,  310,  240,  196,  180,\n        138,  139,  130,  119,  106,   83,   88,   70,   64,   70,   53,\n         69,   68,   42,   39,   53,   49,   52,   37,   33,   21,   35,\n         21,   22,   19,   20,   12,   21,   17,   13,   15,   12,   13,\n         13,    7,   10,    6,    7,   10,    7,    4,    8,    9,    3,\n          4,    1,    3,    3,    3,    2,    1,    4,    1,    1,    1,\n          2,    2,    2,    2,    1,   42]))\n[-10.   -9.1  -8.2  -7.3  -6.4  -5.5  -4.6  -3.7  -2.8  -1.9  -1.   -0.1\n   0.8   1.7   2.6   3.5   4.4   5.3   6.2   7.1   8.    8.9   9.8  10.7\n  11.6  12.5  13.4  14.3  15.2  16.1  17.   17.9  18.8  19.7  20.6  21.5\n  22.4  23.3  24.2  25.1  26.   26.9  27.8  28.7  29.6  30.5  31.4  32.3\n  33.2  34.1  35.   35.9  36.8  37.7  38.6  39.5  40.4  41.3  42.2  43.1\n  44.   44.9  45.8  46.7  47.6  48.5  49.4  50.3  51.2  52.1  53.   53.9\n  54.8  55.7  56.6  57.5  58.4  59.3  60.2  61.1  62.   62.9  63.8  64.7\n  65.6  66.5  67.4  68.3  69.2  70.1  71.   71.9  72.8  73.7  74.6  75.5\n  76.4  77.3  78.2  79.1  80. ]\n"
     ]
    },
    {
     "data": {
      "image/png": "[encoded data removed]",
      "text/plain": [
       "<matplotlib.figure.Figure at 0x7f8a2aab8630>"
      ]
     },
     "metadata": {},
     "output_type": "display_data"
    }
   ],
   "source": [
    "pages = df.pages.values\n",
    "print(pages)\n",
    "pages=np.asarray(pages)\n",
    "\n",
    "\n",
    "pages[pages == 'NaN'] = -5\n",
    "pages=pages.astype(int)\n",
    "\n",
    "pages[pages < -10] = -10\n",
    "pages[pages > 80] = 80\n",
    "fig = plt.figure()\n",
    "n, bins, patches = plt.hist(pages,bins=100)\n",
    "print(np.unique(pages,return_counts=True))\n",
    "\n",
    "print(bins)\n",
    "# l = plt.plot(bins)\n",
    "# fig = pages.plot.hist(y=idx).get_figure()\n",
    "plt.title(\"Pages histogram\")\n",
    "plt.xlabel(\"Number of pages\")\n",
    "plt.ylabel(\"Frequency\")\n",
    "plt.savefig('pages_hist.eps', format='eps', dpi=1000)\n",
    "plt.show()"
   ]
  },
  {
   "cell_type": "code",
   "execution_count": 7,
   "metadata": {
    "collapsed": true
   },
   "outputs": [
    {
     "name": "stdout",
     "output_type": "stream",
     "text": [
      "['NaN' '2004' '2002' '2001' '2000' '2003' '1998' '1999' '-1' '2005' '1993'\n '1994' '1962' '2006' '1997' '1996' '1992' '1986' '1988' '1995' '1991'\n '1985' '2007' '1990' '1989' '1987' '1976' '1978' '1982' '1950' '1961'\n '1979' '1972' '1974' '1973' '1981' '1970' '1965' '1968' '1975' '1983'\n '1984' '1980' '1971' '1957' '1960' '1948' '1977' '1912' '1929' '1952'\n '1969' '1956' '1967' '1949' '2009' '1946' '1936' '1966' '1964' '1941'\n '1958' '2013' '1959' '1935' '2014' '2015' '2010' '1953' '1963' '1943'\n '1951' '1871' '1947' '1954' '2011' '2008' '1944' '1955' '2016' '1899'\n '20060100' '1896' '3' '0' '1940' '1893' '2012']\n2007        1562\n2005        1542\n2008        1523\n2006        1505\n2009        1341\n2004        1315\n2003        1039\n2002         927\n2001         803\n2010         701\n2000         691\n-1           634\n1999         539\n1998         450\n1997         321\n1996         283\n1995         228\n1994         193\n1993         153\n1992         127\n1991         111\n1990         108\n1989          82\n1988          80\n1987          73\n1986          62\n1985          49\n1984          38\n1983          32\n1979          31\n            ... \n1950           4\n2013           3\n1966           3\n1946           3\n1949           3\n1953           3\n1959           2\n2016           2\n2014           2\n1936           2\n1958           2\n1948           2\n1947           2\n2012           2\n1943           2\n1940           1\n1935           1\n1896           1\n1955           1\n20060100       1\n1899           1\n1871           1\n1912           1\n3              1\n1944           1\n1951           1\n0              1\n1893           1\n1941           1\n1929           1\nName: year, Length: 88, dtype: int64\n"
     ]
    }
   ],
   "source": [
    "print (df.year.unique())\n",
    "print (df.year.value_counts())"
   ]
  },
  {
   "cell_type": "code",
   "execution_count": 10,
   "metadata": {},
   "outputs": [
    {
     "name": "stdout",
     "output_type": "stream",
     "text": [
      "[ 1850.    1851.75  1853.5   1855.25  1857.    1858.75  1860.5   1862.25\n  1864.    1865.75  1867.5   1869.25  1871.    1872.75  1874.5   1876.25\n  1878.    1879.75  1881.5   1883.25  1885.    1886.75  1888.5   1890.25\n  1892.    1893.75  1895.5   1897.25  1899.    1900.75  1902.5   1904.25\n  1906.    1907.75  1909.5   1911.25  1913.    1914.75  1916.5   1918.25\n  1920.    1921.75  1923.5   1925.25  1927.    1928.75  1930.5   1932.25\n  1934.    1935.75  1937.5   1939.25  1941.    1942.75  1944.5   1946.25\n  1948.    1949.75  1951.5   1953.25  1955.    1956.75  1958.5   1960.25\n  1962.    1963.75  1965.5   1967.25  1969.    1970.75  1972.5   1974.25\n  1976.    1977.75  1979.5   1981.25  1983.    1984.75  1986.5   1988.25\n  1990.    1991.75  1993.5   1995.25  1997.    1998.75  2000.5   2002.25\n  2004.    2005.75  2007.5   2009.25  2011.    2012.75  2014.5   2016.25\n  2018.    2019.75  2021.5   2023.25  2025.  ]\n"
     ]
    },
    {
     "data": {
      "image/png": "[encoded data removed]",
      "text/plain": [
       "<matplotlib.figure.Figure at 0x7f2888bd9ef0>"
      ]
     },
     "metadata": {},
     "output_type": "display_data"
    }
   ],
   "source": [
    "year = df.year.values\n",
    "year=np.asarray(year)\n",
    "year[year == 'NaN'] = 2025\n",
    "# counts_nan = np.count_nonzero(np.isnan(year.astype(float)))\n",
    "# print(counts_nan)\n",
    "year=year.astype(int)\n",
    "year[year < 1850] = 1850\n",
    "year[(year > 2017) & (year != 2025)] = 2020\n",
    "fig = plt.figure()\n",
    "n, bins, patches = plt.hist(year,bins=100)\n",
    "print(bins)\n",
    "# l = plt.plot(bins)\n",
    "\n",
    "# fig = pages.plot.hist(y=idx).get_figure()\n",
    "plt.title(\"Years histogram\")\n",
    "plt.xlabel(\"Year\")\n",
    "plt.ylabel(\"Frequency\")\n",
    "plt.savefig('year_hist.eps', format='eps', dpi=1000)\n",
    "plt.show()"
   ]
  },
  {
   "cell_type": "code",
   "execution_count": 18,
   "metadata": {},
   "outputs": [
    {
     "name": "stdout",
     "output_type": "stream",
     "text": [
      "[-10 '2004' '2002' ..., '2011' '2010' '2011']\n20\n"
     ]
    }
   ],
   "source": [
    "ye2 = df.year.values\n",
    "print(ye2)\n",
    "ye2=np.asarray(ye2)\n",
    "ye2[ye2 == 'NaN'] = -10\n",
    "print(len(ye2[ye2 == -10]))"
   ]
  },
  {
   "cell_type": "code",
   "execution_count": 6,
   "metadata": {
    "collapsed": false
   },
   "outputs": [
    {
     "name": "stdout",
     "output_type": "stream",
     "text": [
      "article          12202\ninproceedings     2088\nbook              1490\nmisc               396\nelectronic         207\nproceedings        169\ntechreport         160\nincollection       124\ninbook              54\nunpublished         36\nphdthesis           25\nNaN                 20\nmastersthesis        7\nmanual               2\nbooklet              1\nName: type, dtype: int64\n"
     ]
    }
   ],
   "source": [
    "print (df.type.value_counts())"
   ]
  },
  {
   "cell_type": "code",
   "execution_count": 5,
   "metadata": {
    "collapsed": false
   },
   "outputs": [
    {
     "name": "stdout",
     "output_type": "stream",
     "text": [
      "(16981, 19)\n(16981, 19)\nciteulike_id          16962\npages                   263\nyear                     88\ntype_NaN                  2\ntype_article              2\ntype_book                 2\ntype_booklet              2\ntype_electronic           2\ntype_inbook               2\ntype_incollection         2\ntype_inproceedings        2\ntype_manual               2\ntype_mastersthesis        2\ntype_misc                 2\ntype_phdthesis            2\ntype_proceedings          2\ntype_techreport           2\ntype_unpublished          2\ntype_nan                  1\ndtype: int64\n"
     ]
    }
   ],
   "source": [
    "print(df_dummy.shape)\n",
    "df_dummy.dropna(inplace=True)\n",
    "print(df_dummy.shape)\n",
    "print (df_dummy.apply(pd.Series.nunique))"
   ]
  },
  {
   "cell_type": "code",
   "execution_count": 4,
   "metadata": {},
   "outputs": [
    {
     "name": "stdout",
     "output_type": "stream",
     "text": [
      "0\n"
     ]
    }
   ],
   "source": [
    "# min-max normalization:\n",
    "from sklearn import preprocessing\n",
    "\n",
    "# x = df.loc[:,todummy_list].values #returns a numpy array\n",
    "# min_max_scaler = preprocessing.MinMaxScaler()\n",
    "# x_scaled = min_max_scaler.fit_transform(x)\n",
    "# df.loc[:,todummy_list] = pandas.DataFrame(x_scaled)\n",
    "\n",
    "values = df.values\n",
    "imputer = preprocessing.Imputer()\n",
    "transformed_values = imputer.fit_transform(values)\n",
    "# count the number of NaN values in each column\n",
    "print(np.isnan(transformed_values).sum())\n",
    "\n",
    "min_max_scaler = preprocessing.MinMaxScaler()\n",
    "x_scaled = min_max_scaler.fit_transform(transformed_values)\n",
    "transformed_df= pd.DataFrame(x_scaled)"
   ]
  },
  {
   "cell_type": "code",
   "execution_count": 5,
   "metadata": {
    "collapsed": false
   },
   "outputs": [
    {
     "name": "stdout",
     "output_type": "stream",
     "text": [
      "(25976, 1893)\n(25976, 1893)\n"
     ]
    }
   ],
   "source": [
    "print(transformed_df.shape)\n",
    "print(x_scaled.shape)\n",
    "# print(transformed_df.nunique())\n",
    "# print (transformed_df.head(2))"
   ]
  },
  {
   "cell_type": "code",
   "execution_count": 13,
   "metadata": {
    "collapsed": false
   },
   "outputs": [
    {
     "name": "stdout",
     "output_type": "stream",
     "text": [
      "(25976, 1893)\n(1893,)\n"
     ]
    },
    {
     "name": "stderr",
     "output_type": "stream",
     "text": [
      "/usr/local/lib/python3.5/dist-packages/sklearn/discriminant_analysis.py:388: UserWarning: Variables are collinear.\n  warnings.warn(\"Variables are collinear.\")\n"
     ]
    },
    {
     "name": "stderr",
     "output_type": "stream",
     "text": [
      "/usr/local/lib/python3.5/dist-packages/sklearn/discriminant_analysis.py:388: UserWarning: Variables are collinear.\n  warnings.warn(\"Variables are collinear.\")\n"
     ]
    },
    {
     "name": "stderr",
     "output_type": "stream",
     "text": [
      "/usr/local/lib/python3.5/dist-packages/sklearn/discriminant_analysis.py:388: UserWarning: Variables are collinear.\n  warnings.warn(\"Variables are collinear.\")\n"
     ]
    },
    {
     "name": "stdout",
     "output_type": "stream",
     "text": [
      "0.491811938722\n"
     ]
    }
   ],
   "source": [
    "from sklearn.discriminant_analysis import LinearDiscriminantAnalysis\n",
    "from sklearn.model_selection import KFold\n",
    "from sklearn.model_selection import cross_val_score\n",
    "# training= np.random.randint(2, size=(x_scaled.shape[0],x_scaled.shape[1]+1))\n",
    "# training[:,:-1] = x_scaled\n",
    "\n",
    "y= np.random.randint(2, size=(x_scaled.shape[1]))\n",
    "# y= y.reshape((y.shape[0],1))\n",
    "print(x_scaled.shape)\n",
    "print(y.shape)\n",
    "\n",
    "# evaluate an LDA model on the dataset using k-fold cross validation\n",
    "model = LinearDiscriminantAnalysis()\n",
    "kfold = KFold(n_splits=3, random_state=7)\n",
    "result = cross_val_score(model, np.transpose(np.matrix(x_scaled)), np.transpose(y), cv=kfold, scoring='accuracy')\n",
    "print(result.mean())"
   ]
  },
  {
   "cell_type": "code",
   "execution_count": 3,
   "metadata": {},
   "outputs": [
    {
     "name": "stderr",
     "output_type": "stream",
     "text": [
      "Using TensorFlow backend.\n"
     ]
    },
    {
     "name": "stderr",
     "output_type": "stream",
     "text": [
      "2017-10-01 22:49:37,599 : INFO : 'pattern' package not found; tag filters are not available for English\n"
     ]
    }
   ],
   "source": [
    "import logging\n",
    "logging.basicConfig(format='%(asctime)s : %(levelname)s : %(message)s', level=logging.INFO)\n",
    "from nltk.tokenize import sent_tokenize\n",
    "from nltk.tokenize import word_tokenize\n",
    "import os\n",
    "from gensim import corpora\n",
    "import gensim"
   ]
  },
  {
   "cell_type": "code",
   "execution_count": 6,
   "metadata": {},
   "outputs": [
    {
     "name": "stderr",
     "output_type": "stream",
     "text": [
      "2017-10-01 22:52:16,103 : INFO : loading projection weights from /home/wanli/data/word_embeddings.txt\n"
     ]
    },
    {
     "name": "stderr",
     "output_type": "stream",
     "text": [
      "2017-10-01 22:52:59,142 : INFO : loaded (302775, 200) matrix from /home/wanli/data/word_embeddings.txt\n"
     ]
    }
   ],
   "source": [
    "fname ='/home/wanli/data/word_embeddings.txt'\n",
    "model = gensim.models.KeyedVectors.load_word2vec_format(fname, binary=False)"
   ]
  },
  {
   "cell_type": "code",
   "execution_count": 7,
   "metadata": {},
   "outputs": [
    {
     "data": {
      "text/plain": [
       "-0.003150100318443387"
      ]
     },
     "execution_count": 7,
     "metadata": {},
     "output_type": "execute_result"
    }
   ],
   "source": [
    "model.wv.similarity('information', 'system')"
   ]
  },
  {
   "cell_type": "code",
   "execution_count": 22,
   "metadata": {
    "collapsed": true
   },
   "outputs": [
    {
     "data": {
      "text/plain": [
       "[('sanchez', 0.5267158150672913),\n ('kelleher', 0.5113817453384399),\n ('wrath', 0.5070061683654785),\n ('yoatl', 0.47525104880332947),\n ('girl', 0.4729466438293457),\n ('tollu', 0.47179219126701355),\n ('lich', 0.4713619351387024),\n ('businessman', 0.47063136100769043),\n ('mansion', 0.47035470604896545),\n ('ruth', 0.4694134294986725)]"
      ]
     },
     "execution_count": 22,
     "metadata": {},
     "output_type": "execute_result"
    }
   ],
   "source": [
    "model.wv.most_similar(positive=['woman', 'king'], negative=['man'])"
   ]
  },
  {
   "cell_type": "code",
   "execution_count": 27,
   "metadata": {},
   "outputs": [
    {
     "data": {
      "text/plain": [
       "[('program', 0.9820653200149536),\n ('compiler', 0.9291761517524719),\n ('instructions', 0.9030072689056396),\n ('binaries', 0.9001923203468323),\n ('c/c++', 0.8978627324104309),\n ('applet', 0.8968085050582886),\n ('firmware', 0.891533374786377),\n ('eprom', 0.8878062963485718),\n ('debugger', 0.8845652341842651),\n ('pc', 0.8814089894294739)]"
      ]
     },
     "execution_count": 27,
     "metadata": {},
     "output_type": "execute_result"
    }
   ],
   "source": [
    "model.wv.most_similar_cosmul(positive=['computer', 'code'], negative=['biology'])"
   ]
  },
  {
   "cell_type": "code",
   "execution_count": 35,
   "metadata": {},
   "outputs": [
    {
     "data": {
      "text/plain": [
       "[('recommendation', 0.8478092551231384),\n ('recommenders', 0.636306643486023),\n ('personalization', 0.596664309501648),\n ('tagir', 0.5812981724739075),\n ('question-answering', 0.5709900856018066),\n ('e-learning', 0.5520929098129272),\n ('collaborative-filtering', 0.5501213073730469),\n ('tagging', 0.5483794808387756),\n ('personalized', 0.546078085899353),\n ('cbir', 0.5428563952445984)]"
      ]
     },
     "execution_count": 35,
     "metadata": {},
     "output_type": "execute_result"
    }
   ],
   "source": [
    "model.wv.most_similar(positive=['recommender'])"
   ]
  },
  {
   "cell_type": "code",
   "execution_count": 2,
   "metadata": {},
   "outputs": [
    {
     "name": "stdout",
     "output_type": "stream",
     "text": [
      "-27.0\n"
     ]
    }
   ],
   "source": [
    "import  tensorflow as tf\n",
    "\n",
    "a = tf.placeholder(tf.float32, shape=[None,3], name=\"input_placeholder_a\")\n",
    "b = tf.placeholder(tf.float32, shape=[None,3], name=\"input_placeholder_b\")\n",
    "normalize_a = tf.nn.l2_normalize(a,0)        \n",
    "normalize_b = tf.nn.l2_normalize(b,0)\n",
    "cos_similarity = tf.losses.cosine_distance(a,b,dim=1)\n",
    "sess=tf.Session()\n",
    "cos_sim=sess.run(cos_similarity,feed_dict={a:[[1,2,3],[1,2,3]],b:[[2,4,6],[2,4,6]]})\n",
    "print(cos_sim)"
   ]
  },
  {
   "cell_type": "code",
   "execution_count": 18,
   "metadata": {},
   "outputs": [
    {
     "name": "stdout",
     "output_type": "stream",
     "text": [
      "\n[[ 0.26726124  0.53452247  0.80178368]\n [ 0.26726124  0.53452247  0.80178368]]\n[[ 0.26726124  0.53452247  0.80178368]\n [ 0.26726124  0.53452247  0.80178368]]\n"
     ]
    }
   ],
   "source": [
    "normalize_a = tf.nn.l2_normalize(a,1)        \n",
    "normalize_b = tf.nn.l2_normalize(b,1)\n",
    "x,y=sess.run([normalize_a, normalize_b],feed_dict={a:[[1,2,3],[2,4,6]],b:[[1,2,3],[2,4,6]]})\n",
    "print()\n",
    "print(x)\n",
    "print(y)"
   ]
  },
  {
   "cell_type": "code",
   "execution_count": 19,
   "metadata": {
    "collapsed": false
   },
   "outputs": [
    {
     "name": "stdout",
     "output_type": "stream",
     "text": [
      "[[ 0.99999988]\n [ 0.99999988]]\n"
     ]
    }
   ],
   "source": [
    "cos_similarity = tf.losses.cosine_distance(normalize_a,normalize_b, reduction=tf.losses.Reduction.NONE,\n",
    "                                           dim=1)\n",
    "cos_sim=sess.run(cos_similarity,feed_dict={a:[[1,2,3],[2,4,6]],b:[[1,2,3],[2,4,6]]})\n",
    "print(1-cos_sim)"
   ]
  },
  {
   "cell_type": "code",
   "execution_count": 17,
   "metadata": {},
   "outputs": [
    {
     "name": "stdout",
     "output_type": "stream",
     "text": [
      "[[ 0.19999999  0.19999999  0.19999999]\n [ 0.79999995  0.79999995  0.79999995]]\n[[ 0.40000004]\n [-1.39999986]]\n"
     ]
    }
   ],
   "source": [
    "radial_diffs = tf.multiply(normalize_a, normalize_b)\n",
    "print(sess.run(radial_diffs,feed_dict={a:[[1,2,3],[2,4,6]],b:[[1,2,3],[2,4,6]]}))\n",
    "losses = 1 - tf.reduce_sum(radial_diffs, axis=(1,), keep_dims=True)\n",
    "print(sess.run(losses,feed_dict={a:[[1,2,3],[2,4,6]],b:[[1,2,3],[2,4,6]]}))"
   ]
  },
  {
   "cell_type": "code",
   "execution_count": 51,
   "metadata": {
    "collapsed": true
   },
   "outputs": [
    {
     "name": "stdout",
     "output_type": "stream",
     "text": [
      "--------------------------\n[ 1.   1.   0.1]\n--------------------------\n"
     ]
    },
    {
     "name": "stdout",
     "output_type": "stream",
     "text": [
      "[[ 0.  1.]\n [ 0.  1.]\n [ 0.  0.]]\n"
     ]
    },
    {
     "ename": "InvalidArgumentError",
     "evalue": "Received a label value of -1 which is outside the valid range of [0, 1).  Label values: 1 1 -1\n\t [[Node: sparse_softmax_cross_entropy_loss_20/xentropy/xentropy = SparseSoftmaxCrossEntropyWithLogits[T=DT_FLOAT, Tlabels=DT_INT32, _device=\"/job:localhost/replica:0/task:0/cpu:0\"](_arg_output2_44_0_1, _arg_labels2_44_0_0)]]\n\nCaused by op 'sparse_softmax_cross_entropy_loss_20/xentropy/xentropy', defined at:\n  File \"/usr/lib/python3.5/runpy.py\", line 184, in _run_module_as_main\n    \"__main__\", mod_spec)\n  File \"/usr/lib/python3.5/runpy.py\", line 85, in _run_code\n    exec(code, run_globals)\n  File \"/usr/local/lib/python3.5/dist-packages/ipykernel_launcher.py\", line 16, in <module>\n    app.launch_new_instance()\n  File \"/usr/local/lib/python3.5/dist-packages/traitlets/config/application.py\", line 658, in launch_instance\n    app.start()\n  File \"/usr/local/lib/python3.5/dist-packages/ipykernel/kernelapp.py\", line 477, in start\n    ioloop.IOLoop.instance().start()\n  File \"/usr/local/lib/python3.5/dist-packages/zmq/eventloop/ioloop.py\", line 177, in start\n    super(ZMQIOLoop, self).start()\n  File \"/usr/local/lib/python3.5/dist-packages/tornado/ioloop.py\", line 888, in start\n    handler_func(fd_obj, events)\n  File \"/usr/local/lib/python3.5/dist-packages/tornado/stack_context.py\", line 277, in null_wrapper\n    return fn(*args, **kwargs)\n  File \"/usr/local/lib/python3.5/dist-packages/zmq/eventloop/zmqstream.py\", line 440, in _handle_events\n    self._handle_recv()\n  File \"/usr/local/lib/python3.5/dist-packages/zmq/eventloop/zmqstream.py\", line 472, in _handle_recv\n    self._run_callback(callback, msg)\n  File \"/usr/local/lib/python3.5/dist-packages/zmq/eventloop/zmqstream.py\", line 414, in _run_callback\n    callback(*args, **kwargs)\n  File \"/usr/local/lib/python3.5/dist-packages/tornado/stack_context.py\", line 277, in null_wrapper\n    return fn(*args, **kwargs)\n  File \"/usr/local/lib/python3.5/dist-packages/ipykernel/kernelbase.py\", line 283, in dispatcher\n    return self.dispatch_shell(stream, msg)\n  File \"/usr/local/lib/python3.5/dist-packages/ipykernel/kernelbase.py\", line 235, in dispatch_shell\n    handler(stream, idents, msg)\n  File \"/usr/local/lib/python3.5/dist-packages/ipykernel/kernelbase.py\", line 399, in execute_request\n    user_expressions, allow_stdin)\n  File \"/usr/local/lib/python3.5/dist-packages/ipykernel/ipkernel.py\", line 196, in do_execute\n    res = shell.run_cell(code, store_history=store_history, silent=silent)\n  File \"/usr/local/lib/python3.5/dist-packages/ipykernel/zmqshell.py\", line 533, in run_cell\n    return super(ZMQInteractiveShell, self).run_cell(*args, **kwargs)\n  File \"/usr/local/lib/python3.5/dist-packages/IPython/core/interactiveshell.py\", line 2902, in run_cell\n    interactivity=interactivity, compiler=compiler, result=result)\n  File \"/usr/local/lib/python3.5/dist-packages/IPython/core/interactiveshell.py\", line 3006, in run_ast_nodes\n    if self.run_code(code, result):\n  File \"/usr/local/lib/python3.5/dist-packages/IPython/core/interactiveshell.py\", line 3066, in run_code\n    exec(code_obj, self.user_global_ns, self.user_ns)\n  File \"<ipython-input-51-74ea13779171>\", line 50, in <module>\n    ce_spars= tf.losses.sparse_softmax_cross_entropy(logits=output, labels=labels,weights=weights\n  File \"/usr/local/lib/python3.5/dist-packages/tensorflow/python/ops/losses/losses_impl.py\", line 742, in sparse_softmax_cross_entropy\n    name=\"xentropy\")\n  File \"/usr/local/lib/python3.5/dist-packages/tensorflow/python/ops/nn_ops.py\", line 1693, in sparse_softmax_cross_entropy_with_logits\n    precise_logits, labels, name=name)\n  File \"/usr/local/lib/python3.5/dist-packages/tensorflow/python/ops/gen_nn_ops.py\", line 2491, in _sparse_softmax_cross_entropy_with_logits\n    features=features, labels=labels, name=name)\n  File \"/usr/local/lib/python3.5/dist-packages/tensorflow/python/framework/op_def_library.py\", line 767, in apply_op\n    op_def=op_def)\n  File \"/usr/local/lib/python3.5/dist-packages/tensorflow/python/framework/ops.py\", line 2630, in create_op\n    original_op=self._default_original_op, op_def=op_def)\n  File \"/usr/local/lib/python3.5/dist-packages/tensorflow/python/framework/ops.py\", line 1204, in __init__\n    self._traceback = self._graph._extract_stack()  # pylint: disable=protected-access\n\nInvalidArgumentError (see above for traceback): Received a label value of -1 which is outside the valid range of [0, 1).  Label values: 1 1 -1\n\t [[Node: sparse_softmax_cross_entropy_loss_20/xentropy/xentropy = SparseSoftmaxCrossEntropyWithLogits[T=DT_FLOAT, Tlabels=DT_INT32, _device=\"/job:localhost/replica:0/task:0/cpu:0\"](_arg_output2_44_0_1, _arg_labels2_44_0_0)]]\n",
     "traceback": [
      "\u001b[1;31m---------------------------------------------------------------------------\u001b[0m",
      "\u001b[1;31mInvalidArgumentError\u001b[0m                      Traceback (most recent call last)",
      "\u001b[1;32m/usr/local/lib/python3.5/dist-packages/tensorflow/python/client/session.py\u001b[0m in \u001b[0;36m_do_call\u001b[1;34m(self, fn, *args)\u001b[0m\n\u001b[0;32m   1326\u001b[0m     \u001b[1;32mtry\u001b[0m\u001b[1;33m:\u001b[0m\u001b[1;33m\u001b[0m\u001b[0m\n\u001b[1;32m-> 1327\u001b[1;33m       \u001b[1;32mreturn\u001b[0m \u001b[0mfn\u001b[0m\u001b[1;33m(\u001b[0m\u001b[1;33m*\u001b[0m\u001b[0margs\u001b[0m\u001b[1;33m)\u001b[0m\u001b[1;33m\u001b[0m\u001b[0m\n\u001b[0m\u001b[0;32m   1328\u001b[0m     \u001b[1;32mexcept\u001b[0m \u001b[0merrors\u001b[0m\u001b[1;33m.\u001b[0m\u001b[0mOpError\u001b[0m \u001b[1;32mas\u001b[0m \u001b[0me\u001b[0m\u001b[1;33m:\u001b[0m\u001b[1;33m\u001b[0m\u001b[0m\n",
      "\u001b[1;32m/usr/local/lib/python3.5/dist-packages/tensorflow/python/client/session.py\u001b[0m in \u001b[0;36m_run_fn\u001b[1;34m(session, feed_dict, fetch_list, target_list, options, run_metadata)\u001b[0m\n\u001b[0;32m   1305\u001b[0m                                    \u001b[0mfeed_dict\u001b[0m\u001b[1;33m,\u001b[0m \u001b[0mfetch_list\u001b[0m\u001b[1;33m,\u001b[0m \u001b[0mtarget_list\u001b[0m\u001b[1;33m,\u001b[0m\u001b[1;33m\u001b[0m\u001b[0m\n\u001b[1;32m-> 1306\u001b[1;33m                                    status, run_metadata)\n\u001b[0m\u001b[0;32m   1307\u001b[0m \u001b[1;33m\u001b[0m\u001b[0m\n",
      "\u001b[1;32m/usr/lib/python3.5/contextlib.py\u001b[0m in \u001b[0;36m__exit__\u001b[1;34m(self, type, value, traceback)\u001b[0m\n\u001b[0;32m     65\u001b[0m             \u001b[1;32mtry\u001b[0m\u001b[1;33m:\u001b[0m\u001b[1;33m\u001b[0m\u001b[0m\n\u001b[1;32m---> 66\u001b[1;33m                 \u001b[0mnext\u001b[0m\u001b[1;33m(\u001b[0m\u001b[0mself\u001b[0m\u001b[1;33m.\u001b[0m\u001b[0mgen\u001b[0m\u001b[1;33m)\u001b[0m\u001b[1;33m\u001b[0m\u001b[0m\n\u001b[0m\u001b[0;32m     67\u001b[0m             \u001b[1;32mexcept\u001b[0m \u001b[0mStopIteration\u001b[0m\u001b[1;33m:\u001b[0m\u001b[1;33m\u001b[0m\u001b[0m\n",
      "\u001b[1;32m/usr/local/lib/python3.5/dist-packages/tensorflow/python/framework/errors_impl.py\u001b[0m in \u001b[0;36mraise_exception_on_not_ok_status\u001b[1;34m()\u001b[0m\n\u001b[0;32m    465\u001b[0m           \u001b[0mcompat\u001b[0m\u001b[1;33m.\u001b[0m\u001b[0mas_text\u001b[0m\u001b[1;33m(\u001b[0m\u001b[0mpywrap_tensorflow\u001b[0m\u001b[1;33m.\u001b[0m\u001b[0mTF_Message\u001b[0m\u001b[1;33m(\u001b[0m\u001b[0mstatus\u001b[0m\u001b[1;33m)\u001b[0m\u001b[1;33m)\u001b[0m\u001b[1;33m,\u001b[0m\u001b[1;33m\u001b[0m\u001b[0m\n\u001b[1;32m--> 466\u001b[1;33m           pywrap_tensorflow.TF_GetCode(status))\n\u001b[0m\u001b[0;32m    467\u001b[0m   \u001b[1;32mfinally\u001b[0m\u001b[1;33m:\u001b[0m\u001b[1;33m\u001b[0m\u001b[0m\n",
      "\u001b[1;31mInvalidArgumentError\u001b[0m: Received a label value of -1 which is outside the valid range of [0, 1).  Label values: 1 1 -1\n\t [[Node: sparse_softmax_cross_entropy_loss_20/xentropy/xentropy = SparseSoftmaxCrossEntropyWithLogits[T=DT_FLOAT, Tlabels=DT_INT32, _device=\"/job:localhost/replica:0/task:0/cpu:0\"](_arg_output2_44_0_1, _arg_labels2_44_0_0)]]",
      "\nDuring handling of the above exception, another exception occurred:\n",
      "\u001b[1;31mInvalidArgumentError\u001b[0m                      Traceback (most recent call last)",
      "\u001b[1;32m<ipython-input-51-74ea13779171>\u001b[0m in \u001b[0;36m<module>\u001b[1;34m()\u001b[0m\n\u001b[0;32m     49\u001b[0m \u001b[0mfeed\u001b[0m \u001b[1;33m=\u001b[0m \u001b[1;33m{\u001b[0m\u001b[0mlabels\u001b[0m\u001b[1;33m:\u001b[0m\u001b[0mlabel\u001b[0m\u001b[1;33m,\u001b[0m\u001b[0moutput\u001b[0m\u001b[1;33m:\u001b[0m \u001b[0moutput5\u001b[0m\u001b[1;33m}\u001b[0m\u001b[1;33m\u001b[0m\u001b[0m\n\u001b[0;32m     50\u001b[0m ce_spars= tf.losses.sparse_softmax_cross_entropy(logits=output, labels=labels,weights=weights\n\u001b[1;32m---> 51\u001b[1;33m ).eval(feed)\n\u001b[0m\u001b[0;32m     52\u001b[0m \u001b[0mprint\u001b[0m\u001b[1;33m(\u001b[0m\u001b[0mce_spars\u001b[0m\u001b[1;33m)\u001b[0m\u001b[1;33m\u001b[0m\u001b[0m\n\u001b[0;32m     53\u001b[0m \u001b[0mprint\u001b[0m\u001b[1;33m(\u001b[0m\u001b[1;34m'--------------------------'\u001b[0m\u001b[1;33m)\u001b[0m\u001b[1;33m\u001b[0m\u001b[0m\n",
      "\u001b[1;32m/usr/local/lib/python3.5/dist-packages/tensorflow/python/framework/ops.py\u001b[0m in \u001b[0;36meval\u001b[1;34m(self, feed_dict, session)\u001b[0m\n\u001b[0;32m    539\u001b[0m \u001b[1;33m\u001b[0m\u001b[0m\n\u001b[0;32m    540\u001b[0m     \"\"\"\n\u001b[1;32m--> 541\u001b[1;33m     \u001b[1;32mreturn\u001b[0m \u001b[0m_eval_using_default_session\u001b[0m\u001b[1;33m(\u001b[0m\u001b[0mself\u001b[0m\u001b[1;33m,\u001b[0m \u001b[0mfeed_dict\u001b[0m\u001b[1;33m,\u001b[0m \u001b[0mself\u001b[0m\u001b[1;33m.\u001b[0m\u001b[0mgraph\u001b[0m\u001b[1;33m,\u001b[0m \u001b[0msession\u001b[0m\u001b[1;33m)\u001b[0m\u001b[1;33m\u001b[0m\u001b[0m\n\u001b[0m\u001b[0;32m    542\u001b[0m \u001b[1;33m\u001b[0m\u001b[0m\n\u001b[0;32m    543\u001b[0m \u001b[1;33m\u001b[0m\u001b[0m\n",
      "\u001b[1;32m/usr/local/lib/python3.5/dist-packages/tensorflow/python/framework/ops.py\u001b[0m in \u001b[0;36m_eval_using_default_session\u001b[1;34m(tensors, feed_dict, graph, session)\u001b[0m\n\u001b[0;32m   4083\u001b[0m                        \u001b[1;34m\"the tensor's graph is different from the session's \"\u001b[0m\u001b[1;33m\u001b[0m\u001b[0m\n\u001b[0;32m   4084\u001b[0m                        \"graph.\")\n\u001b[1;32m-> 4085\u001b[1;33m   \u001b[1;32mreturn\u001b[0m \u001b[0msession\u001b[0m\u001b[1;33m.\u001b[0m\u001b[0mrun\u001b[0m\u001b[1;33m(\u001b[0m\u001b[0mtensors\u001b[0m\u001b[1;33m,\u001b[0m \u001b[0mfeed_dict\u001b[0m\u001b[1;33m)\u001b[0m\u001b[1;33m\u001b[0m\u001b[0m\n\u001b[0m\u001b[0;32m   4086\u001b[0m \u001b[1;33m\u001b[0m\u001b[0m\n\u001b[0;32m   4087\u001b[0m \u001b[1;33m\u001b[0m\u001b[0m\n",
      "\u001b[1;32m/usr/local/lib/python3.5/dist-packages/tensorflow/python/client/session.py\u001b[0m in \u001b[0;36mrun\u001b[1;34m(self, fetches, feed_dict, options, run_metadata)\u001b[0m\n\u001b[0;32m    893\u001b[0m     \u001b[1;32mtry\u001b[0m\u001b[1;33m:\u001b[0m\u001b[1;33m\u001b[0m\u001b[0m\n\u001b[0;32m    894\u001b[0m       result = self._run(None, fetches, feed_dict, options_ptr,\n\u001b[1;32m--> 895\u001b[1;33m                          run_metadata_ptr)\n\u001b[0m\u001b[0;32m    896\u001b[0m       \u001b[1;32mif\u001b[0m \u001b[0mrun_metadata\u001b[0m\u001b[1;33m:\u001b[0m\u001b[1;33m\u001b[0m\u001b[0m\n\u001b[0;32m    897\u001b[0m         \u001b[0mproto_data\u001b[0m \u001b[1;33m=\u001b[0m \u001b[0mtf_session\u001b[0m\u001b[1;33m.\u001b[0m\u001b[0mTF_GetBuffer\u001b[0m\u001b[1;33m(\u001b[0m\u001b[0mrun_metadata_ptr\u001b[0m\u001b[1;33m)\u001b[0m\u001b[1;33m\u001b[0m\u001b[0m\n",
      "\u001b[1;32m/usr/local/lib/python3.5/dist-packages/tensorflow/python/client/session.py\u001b[0m in \u001b[0;36m_run\u001b[1;34m(self, handle, fetches, feed_dict, options, run_metadata)\u001b[0m\n\u001b[0;32m   1122\u001b[0m     \u001b[1;32mif\u001b[0m \u001b[0mfinal_fetches\u001b[0m \u001b[1;32mor\u001b[0m \u001b[0mfinal_targets\u001b[0m \u001b[1;32mor\u001b[0m \u001b[1;33m(\u001b[0m\u001b[0mhandle\u001b[0m \u001b[1;32mand\u001b[0m \u001b[0mfeed_dict_tensor\u001b[0m\u001b[1;33m)\u001b[0m\u001b[1;33m:\u001b[0m\u001b[1;33m\u001b[0m\u001b[0m\n\u001b[0;32m   1123\u001b[0m       results = self._do_run(handle, final_targets, final_fetches,\n\u001b[1;32m-> 1124\u001b[1;33m                              feed_dict_tensor, options, run_metadata)\n\u001b[0m\u001b[0;32m   1125\u001b[0m     \u001b[1;32melse\u001b[0m\u001b[1;33m:\u001b[0m\u001b[1;33m\u001b[0m\u001b[0m\n\u001b[0;32m   1126\u001b[0m       \u001b[0mresults\u001b[0m \u001b[1;33m=\u001b[0m \u001b[1;33m[\u001b[0m\u001b[1;33m]\u001b[0m\u001b[1;33m\u001b[0m\u001b[0m\n",
      "\u001b[1;32m/usr/local/lib/python3.5/dist-packages/tensorflow/python/client/session.py\u001b[0m in \u001b[0;36m_do_run\u001b[1;34m(self, handle, target_list, fetch_list, feed_dict, options, run_metadata)\u001b[0m\n\u001b[0;32m   1319\u001b[0m     \u001b[1;32mif\u001b[0m \u001b[0mhandle\u001b[0m \u001b[1;32mis\u001b[0m \u001b[1;32mNone\u001b[0m\u001b[1;33m:\u001b[0m\u001b[1;33m\u001b[0m\u001b[0m\n\u001b[0;32m   1320\u001b[0m       return self._do_call(_run_fn, self._session, feeds, fetches, targets,\n\u001b[1;32m-> 1321\u001b[1;33m                            options, run_metadata)\n\u001b[0m\u001b[0;32m   1322\u001b[0m     \u001b[1;32melse\u001b[0m\u001b[1;33m:\u001b[0m\u001b[1;33m\u001b[0m\u001b[0m\n\u001b[0;32m   1323\u001b[0m       \u001b[1;32mreturn\u001b[0m \u001b[0mself\u001b[0m\u001b[1;33m.\u001b[0m\u001b[0m_do_call\u001b[0m\u001b[1;33m(\u001b[0m\u001b[0m_prun_fn\u001b[0m\u001b[1;33m,\u001b[0m \u001b[0mself\u001b[0m\u001b[1;33m.\u001b[0m\u001b[0m_session\u001b[0m\u001b[1;33m,\u001b[0m \u001b[0mhandle\u001b[0m\u001b[1;33m,\u001b[0m \u001b[0mfeeds\u001b[0m\u001b[1;33m,\u001b[0m \u001b[0mfetches\u001b[0m\u001b[1;33m)\u001b[0m\u001b[1;33m\u001b[0m\u001b[0m\n",
      "\u001b[1;32m/usr/local/lib/python3.5/dist-packages/tensorflow/python/client/session.py\u001b[0m in \u001b[0;36m_do_call\u001b[1;34m(self, fn, *args)\u001b[0m\n\u001b[0;32m   1338\u001b[0m         \u001b[1;32mexcept\u001b[0m \u001b[0mKeyError\u001b[0m\u001b[1;33m:\u001b[0m\u001b[1;33m\u001b[0m\u001b[0m\n\u001b[0;32m   1339\u001b[0m           \u001b[1;32mpass\u001b[0m\u001b[1;33m\u001b[0m\u001b[0m\n\u001b[1;32m-> 1340\u001b[1;33m       \u001b[1;32mraise\u001b[0m \u001b[0mtype\u001b[0m\u001b[1;33m(\u001b[0m\u001b[0me\u001b[0m\u001b[1;33m)\u001b[0m\u001b[1;33m(\u001b[0m\u001b[0mnode_def\u001b[0m\u001b[1;33m,\u001b[0m \u001b[0mop\u001b[0m\u001b[1;33m,\u001b[0m \u001b[0mmessage\u001b[0m\u001b[1;33m)\u001b[0m\u001b[1;33m\u001b[0m\u001b[0m\n\u001b[0m\u001b[0;32m   1341\u001b[0m \u001b[1;33m\u001b[0m\u001b[0m\n\u001b[0;32m   1342\u001b[0m   \u001b[1;32mdef\u001b[0m \u001b[0m_extend_graph\u001b[0m\u001b[1;33m(\u001b[0m\u001b[0mself\u001b[0m\u001b[1;33m)\u001b[0m\u001b[1;33m:\u001b[0m\u001b[1;33m\u001b[0m\u001b[0m\n",
      "\u001b[1;31mInvalidArgumentError\u001b[0m: Received a label value of -1 which is outside the valid range of [0, 1).  Label values: 1 1 -1\n\t [[Node: sparse_softmax_cross_entropy_loss_20/xentropy/xentropy = SparseSoftmaxCrossEntropyWithLogits[T=DT_FLOAT, Tlabels=DT_INT32, _device=\"/job:localhost/replica:0/task:0/cpu:0\"](_arg_output2_44_0_1, _arg_labels2_44_0_0)]]\n\nCaused by op 'sparse_softmax_cross_entropy_loss_20/xentropy/xentropy', defined at:\n  File \"/usr/lib/python3.5/runpy.py\", line 184, in _run_module_as_main\n    \"__main__\", mod_spec)\n  File \"/usr/lib/python3.5/runpy.py\", line 85, in _run_code\n    exec(code, run_globals)\n  File \"/usr/local/lib/python3.5/dist-packages/ipykernel_launcher.py\", line 16, in <module>\n    app.launch_new_instance()\n  File \"/usr/local/lib/python3.5/dist-packages/traitlets/config/application.py\", line 658, in launch_instance\n    app.start()\n  File \"/usr/local/lib/python3.5/dist-packages/ipykernel/kernelapp.py\", line 477, in start\n    ioloop.IOLoop.instance().start()\n  File \"/usr/local/lib/python3.5/dist-packages/zmq/eventloop/ioloop.py\", line 177, in start\n    super(ZMQIOLoop, self).start()\n  File \"/usr/local/lib/python3.5/dist-packages/tornado/ioloop.py\", line 888, in start\n    handler_func(fd_obj, events)\n  File \"/usr/local/lib/python3.5/dist-packages/tornado/stack_context.py\", line 277, in null_wrapper\n    return fn(*args, **kwargs)\n  File \"/usr/local/lib/python3.5/dist-packages/zmq/eventloop/zmqstream.py\", line 440, in _handle_events\n    self._handle_recv()\n  File \"/usr/local/lib/python3.5/dist-packages/zmq/eventloop/zmqstream.py\", line 472, in _handle_recv\n    self._run_callback(callback, msg)\n  File \"/usr/local/lib/python3.5/dist-packages/zmq/eventloop/zmqstream.py\", line 414, in _run_callback\n    callback(*args, **kwargs)\n  File \"/usr/local/lib/python3.5/dist-packages/tornado/stack_context.py\", line 277, in null_wrapper\n    return fn(*args, **kwargs)\n  File \"/usr/local/lib/python3.5/dist-packages/ipykernel/kernelbase.py\", line 283, in dispatcher\n    return self.dispatch_shell(stream, msg)\n  File \"/usr/local/lib/python3.5/dist-packages/ipykernel/kernelbase.py\", line 235, in dispatch_shell\n    handler(stream, idents, msg)\n  File \"/usr/local/lib/python3.5/dist-packages/ipykernel/kernelbase.py\", line 399, in execute_request\n    user_expressions, allow_stdin)\n  File \"/usr/local/lib/python3.5/dist-packages/ipykernel/ipkernel.py\", line 196, in do_execute\n    res = shell.run_cell(code, store_history=store_history, silent=silent)\n  File \"/usr/local/lib/python3.5/dist-packages/ipykernel/zmqshell.py\", line 533, in run_cell\n    return super(ZMQInteractiveShell, self).run_cell(*args, **kwargs)\n  File \"/usr/local/lib/python3.5/dist-packages/IPython/core/interactiveshell.py\", line 2902, in run_cell\n    interactivity=interactivity, compiler=compiler, result=result)\n  File \"/usr/local/lib/python3.5/dist-packages/IPython/core/interactiveshell.py\", line 3006, in run_ast_nodes\n    if self.run_code(code, result):\n  File \"/usr/local/lib/python3.5/dist-packages/IPython/core/interactiveshell.py\", line 3066, in run_code\n    exec(code_obj, self.user_global_ns, self.user_ns)\n  File \"<ipython-input-51-74ea13779171>\", line 50, in <module>\n    ce_spars= tf.losses.sparse_softmax_cross_entropy(logits=output, labels=labels,weights=weights\n  File \"/usr/local/lib/python3.5/dist-packages/tensorflow/python/ops/losses/losses_impl.py\", line 742, in sparse_softmax_cross_entropy\n    name=\"xentropy\")\n  File \"/usr/local/lib/python3.5/dist-packages/tensorflow/python/ops/nn_ops.py\", line 1693, in sparse_softmax_cross_entropy_with_logits\n    precise_logits, labels, name=name)\n  File \"/usr/local/lib/python3.5/dist-packages/tensorflow/python/ops/gen_nn_ops.py\", line 2491, in _sparse_softmax_cross_entropy_with_logits\n    features=features, labels=labels, name=name)\n  File \"/usr/local/lib/python3.5/dist-packages/tensorflow/python/framework/op_def_library.py\", line 767, in apply_op\n    op_def=op_def)\n  File \"/usr/local/lib/python3.5/dist-packages/tensorflow/python/framework/ops.py\", line 2630, in create_op\n    original_op=self._default_original_op, op_def=op_def)\n  File \"/usr/local/lib/python3.5/dist-packages/tensorflow/python/framework/ops.py\", line 1204, in __init__\n    self._traceback = self._graph._extract_stack()  # pylint: disable=protected-access\n\nInvalidArgumentError (see above for traceback): Received a label value of -1 which is outside the valid range of [0, 1).  Label values: 1 1 -1\n\t [[Node: sparse_softmax_cross_entropy_loss_20/xentropy/xentropy = SparseSoftmaxCrossEntropyWithLogits[T=DT_FLOAT, Tlabels=DT_INT32, _device=\"/job:localhost/replica:0/task:0/cpu:0\"](_arg_output2_44_0_1, _arg_labels2_44_0_0)]]\n"
     ],
     "output_type": "error"
    }
   ],
   "source": [
    "import tensorflow as tf\n",
    "import numpy as np\n",
    "\n",
    "sess = tf.InteractiveSession()\n",
    "\n",
    "# a = tf.placeholder(tf.int32, shape =[None],name='labels')\n",
    "# b = tf.placeholder(tf.float32, shape = [None,1],name='logits')\n",
    "labels = tf.placeholder(tf.int32, shape =[None],name='labels2')\n",
    "output = tf.placeholder(tf.float32, shape =[None,None],name='output2')\n",
    "sess.run(tf.global_variables_initializer())\n",
    "# feed_dict={b:np.array([[0.1],[0.8],[0.1],[0.5]]), a:np.array([0.9,0,0,0])}\n",
    "\n",
    "# c = tf.nn.sparse_softmax_cross_entropy_with_logits(\n",
    "#     logits=b, labels=a\n",
    "# ).eval(feed_dict)\n",
    "# print (c)\n",
    "# d = tf.losses.sparse_softmax_cross_entropy(labels=a,logits=b,reduction=tf.losses.Reduction.NONE).eval(feed_dict)\n",
    "# print(d)\n",
    "\n",
    "\n",
    "\n",
    "\n",
    "output1=np.array([[0.3,0.3,0.4],[0.3 , 0.4  ,0.3 ],[0.1 , 0.2 , 0.7]])\n",
    "output2=np.array([[0.1,0.2,0.7],[0.1 , 0.7  ,0.2 ],[0.3 , 0.4 , 0.3]])\n",
    "output3=np.array([[0.2,0.4,1.4],[0.2 , 1.4  ,0.4 ],[0.6 , 0.8 , 0.6]])\n",
    "output4=np.array([[0.2,0.4],[0.2 , 1.4 ],[0.6 , 0.8 ]])\n",
    "output4=np.array([[0.2,0.8],[0.2 , 0.8 ],[0.6 , 0.4 ]])\n",
    "output5=np.array([[0.2],[0.8 ],[ 0.4 ]])\n",
    "\n",
    "\n",
    "\n",
    "label= np.array([1,1,-1])\n",
    "\n",
    "print('--------------------------')\n",
    "print(tf.maximum(tf.cast(label,tf.float32),0.1).eval())\n",
    "print('--------------------------')\n",
    "oh_label=tf.one_hot(labels,2)\n",
    "weights=[2,2,2]\n",
    "print(oh_label.eval({labels:label}))\n",
    "# feed = {labels:label,output: output5}\n",
    "# ce =tf.losses.softmax_cross_entropy(\n",
    "#     logits=output, onehot_labels=oh_label,weights=weights\n",
    "# ).eval(feed)\n",
    "# print(ce)\n",
    "# print(tf.reduce_mean(ce).eval())\n",
    "\n",
    "\n",
    "# label2= np.array([1,1,0])\n",
    "feed = {labels:label,output: output5}\n",
    "ce_spars= tf.losses.sparse_softmax_cross_entropy(logits=output, labels=labels,weights=weights\n",
    ").eval(feed)\n",
    "print(ce_spars)\n",
    "print('--------------------------')\n",
    "feed = {labels:label,output: output5}\n",
    "sm_output=tf.nn.softmax(output,dim=1)\n",
    "print(sm_output.eval(feed))\n",
    "\n",
    "# \n",
    "# ce_sm=-tf.reduce_sum(tf.cast(oh_label,tf.float32)* tf.log(sm_output), reduction_indices=[1]).eval(feed)\n",
    "# print(ce_sm)\n",
    "# print(tf.reduce_mean(ce_sm).eval())\n",
    "\n",
    "# cross_entropy = -tf.reduce_sum(label1 * tf.log(output3), reduction_indices=[1]).eval()\n",
    "# print(cross_entropy)\n",
    "# print(tf.reduce_mean(cross_entropy).eval())\n",
    "# prediction = tf.sigmoid(d).eval(feed_dict)\n",
    "# print(prediction)\n",
    "# predicted_class = tf.greater(prediction,0.5)\n",
    "# correct = tf.equal(predicted_class, tf.equal(a,1))\n",
    "# accuracy = tf.reduce_mean( tf.cast(correct, 'float') )\n",
    "# print(accuracy.eval(feed_dict))"
   ]
  },
  {
   "cell_type": "code",
   "execution_count": 8,
   "metadata": {
    "collapsed": true
   },
   "outputs": [
    {
     "name": "stdout",
     "output_type": "stream",
     "text": [
      "[ 0.69314718  0.59813881  1.03748798] [ 1.23983097  1.07291901  0.93983102]\n0.776258 1.08419\nlogits:\n [[ 0.5         0.5       ]\n [ 0.60000002  0.39999998]\n [ 0.80000001  0.2       ]]\nsoftmax logits:\n [[ 0.28943312  0.37797815]\n [ 0.31987306  0.34200874]\n [ 0.39069384  0.28001308]]\nsoftmax 2:\n [[ 0.5         0.5       ]\n [ 0.54983401  0.45016599]\n [ 0.64565629  0.35434368]]\nCross_entropy [ 0.69314718  0.79813892  0.43748799]\n[False False False]\n"
     ]
    }
   ],
   "source": [
    "import tensorflow as tf\n",
    "from random import randint\n",
    "import numpy as np \n",
    "\n",
    "epsilon = 1e-8\n",
    "dims = [3,1]\n",
    "pos  = [1,0,1]\n",
    "tf.set_random_seed(42)\n",
    "# logits = tf.random_uniform(dims, maxval=1, dtype=tf.float32)\n",
    "logits = np.array([0.5, 0.6 ,0.8])\n",
    "# logits_2D = np.array([[ 0.94080913 , 0.05919087],\n",
    "#  [ 0.77504122 , 0.22495878],\n",
    "#  [ 0.74438941 , 0.25561059]])\n",
    "logits_2D = tf.stack([logits,tf.subtract(1.0,logits)],axis=1)+epsilon\n",
    "softmax_logits_2D = tf.nn.softmax(logits_2D,dim=0)\n",
    "ohe_labels = tf.one_hot(pos, 2)\n",
    "labels=tf.constant(pos)\n",
    "labels_2d=tf.stack([labels,tf.subtract(1,labels)], axis=1)\n",
    "# res1 = tf.nn.softmax_cross_entropy_with_logits(labels=ohe_labels,logits=logits_2D)\n",
    "\n",
    "# res2 = tf.nn.sparse_softmax_cross_entropy_with_logits(logits=logits_2D, labels=classes)\n",
    "\n",
    "res3 = tf.nn.sparse_softmax_cross_entropy_with_logits(logits=logits_2D, labels=labels)\n",
    "\n",
    "res4 = -tf.reduce_sum(tf.to_float(labels_2d)*tf.log(softmax_logits_2D),reduction_indices=[1])\n",
    "\n",
    "# loss_fn =loss(logits_2D,labels_2d)\n",
    "with tf.name_scope('loss'):\n",
    "    logits = tf.reshape(logits_2D, (-1, 2))\n",
    "    shape = [logits.get_shape()[0], 2]\n",
    "    logits = logits + epsilon\n",
    "    labels = tf.to_float(tf.reshape(labels_2d, (-1, 2)))\n",
    "\n",
    "    softmax = tf.nn.softmax(logits)\n",
    "    cross_entropy = -tf.reduce_sum(labels * tf.log(softmax),\n",
    "                                   reduction_indices=[1])\n",
    "\n",
    "    cross_entropy_mean = tf.reduce_mean(cross_entropy,\n",
    "                                        name='xentropy_mean')\n",
    "    tf.add_to_collection('losses', cross_entropy_mean)\n",
    "\n",
    "    loss = tf.add_n(tf.get_collection('losses'), name='total_loss')\n",
    "with tf.Session() as sess:\n",
    "    a,b,lab,logi,sm_log,softm,ce = sess.run([ res3,res4,labels,logits_2D,softmax_logits_2D,softmax,cross_entropy])\n",
    "    \n",
    "    print (a, b)\n",
    "    print(tf.reduce_mean(a).eval(),tf.reduce_mean(b).eval())\n",
    "    print('logits:\\n',logi)\n",
    "    print('softmax logits:\\n',sm_log)\n",
    "    print('softmax 2:\\n',softm)\n",
    "    print('Cross_entropy',ce)\n",
    "    # print('labels:\\n',lab)\n",
    "    # print('Loss\\n',loss_1)\n",
    "    \n",
    "    print (a == b)"
   ]
  },
  {
   "cell_type": "code",
   "execution_count": 3,
   "metadata": {},
   "outputs": [],
   "source": [
    "def loss(logits, labels):\n",
    "    \"\"\"Calculates the loss from the logits and the labels.\n",
    "\n",
    "    Args:\n",
    "      logits: Logits tensor, float - [batch_size, 2].\n",
    "      labels: Labels tensor, int32 - [batch_size, 2].\n",
    "\n",
    "    Returns:\n",
    "      loss: Loss tensor of type float.\n",
    "    \"\"\"\n",
    "    with tf.name_scope('loss'):\n",
    "        logits = tf.reshape(logits, (-1, 2))\n",
    "        shape = [logits.get_shape()[0], 2]\n",
    "        epsilon = tf.constant(value=1e-8, shape=shape)\n",
    "        logits = logits + epsilon\n",
    "        labels = tf.to_float(tf.reshape(labels, (-1, 2)))\n",
    "\n",
    "        softmax = tf.nn.softmax(logits)\n",
    "        cross_entropy = -tf.reduce_sum(labels * tf.log(softmax),\n",
    "                                       reduction_indices=[1])\n",
    "\n",
    "        cross_entropy_mean = tf.reduce_mean(cross_entropy,\n",
    "                                            name='xentropy_mean')\n",
    "        tf.add_to_collection('losses', cross_entropy_mean)\n",
    "\n",
    "        loss = tf.add_n(tf.get_collection('losses'), name='total_loss')\n",
    "    return loss"
   ]
  },
  {
   "cell_type": "code",
   "execution_count": 15,
   "metadata": {},
   "outputs": [
    {
     "data": {
      "text/html": [
       "<div>\n",
       "<style>\n",
       "    .dataframe thead tr:only-child th {\n",
       "        text-align: right;\n",
       "    }\n",
       "\n",
       "    .dataframe thead th {\n",
       "        text-align: left;\n",
       "    }\n",
       "\n",
       "    .dataframe tbody tr th {\n",
       "        vertical-align: top;\n",
       "    }\n",
       "</style>\n",
       "<table border=\"1\" class=\"dataframe\">\n",
       "  <thead>\n",
       "    <tr style=\"text-align: right;\">\n",
       "      <th></th>\n",
       "      <th>b</th>\n",
       "      <th>score</th>\n",
       "    </tr>\n",
       "  </thead>\n",
       "  <tbody>\n",
       "    <tr>\n",
       "      <th>0</th>\n",
       "      <td>1988.0</td>\n",
       "      <td>234.0</td>\n",
       "    </tr>\n",
       "    <tr>\n",
       "      <th>1</th>\n",
       "      <td>1980.0</td>\n",
       "      <td>24.0</td>\n",
       "    </tr>\n",
       "    <tr>\n",
       "      <th>2</th>\n",
       "      <td>1999.0</td>\n",
       "      <td>14.0</td>\n",
       "    </tr>\n",
       "    <tr>\n",
       "      <th>3</th>\n",
       "      <td>2004.0</td>\n",
       "      <td>27.0</td>\n",
       "    </tr>\n",
       "    <tr>\n",
       "      <th>4</th>\n",
       "      <td>2014.0</td>\n",
       "      <td>NaN</td>\n",
       "    </tr>\n",
       "    <tr>\n",
       "      <th>5</th>\n",
       "      <td>NaN</td>\n",
       "      <td>46.0</td>\n",
       "    </tr>\n",
       "    <tr>\n",
       "      <th>6</th>\n",
       "      <td>2016.0</td>\n",
       "      <td>73.0</td>\n",
       "    </tr>\n",
       "    <tr>\n",
       "      <th>7</th>\n",
       "      <td>NaN</td>\n",
       "      <td>NaN</td>\n",
       "    </tr>\n",
       "    <tr>\n",
       "      <th>8</th>\n",
       "      <td>1885.0</td>\n",
       "      <td>59.0</td>\n",
       "    </tr>\n",
       "    <tr>\n",
       "      <th>9</th>\n",
       "      <td>1850.0</td>\n",
       "      <td>160.0</td>\n",
       "    </tr>\n",
       "  </tbody>\n",
       "</table>\n",
       "</div>"
      ],
      "text/plain": [
       "<div>\n",
       "<style>\n",
       "    .dataframe thead tr:only-child th {\n",
       "        text-align: right;\n",
       "    }\n",
       "\n",
       "    .dataframe thead th {\n",
       "        text-align: left;\n",
       "    }\n",
       "\n",
       "    .dataframe tbody tr th {\n",
       "        vertical-align: top;\n",
       "    }\n",
       "</style>\n",
       "<table border=\"1\" class=\"dataframe\">\n",
       "  <thead>\n",
       "    <tr style=\"text-align: right;\">\n",
       "      <th></th>\n",
       "      <th>b</th>\n",
       "      <th>score</th>\n",
       "    </tr>\n",
       "  </thead>\n",
       "  <tbody>\n",
       "    <tr>\n",
       "      <th>0</th>\n",
       "      <td>1988.0</td>\n",
       "      <td>234.0</td>\n",
       "    </tr>\n",
       "    <tr>\n",
       "      <th>1</th>\n",
       "      <td>1980.0</td>\n",
       "      <td>24.0</td>\n",
       "    </tr>\n",
       "    <tr>\n",
       "      <th>2</th>\n",
       "      <td>1999.0</td>\n",
       "      <td>14.0</td>\n",
       "    </tr>\n",
       "    <tr>\n",
       "      <th>3</th>\n",
       "      <td>2004.0</td>\n",
       "      <td>27.0</td>\n",
       "    </tr>\n",
       "    <tr>\n",
       "      <th>4</th>\n",
       "      <td>2014.0</td>\n",
       "      <td>NaN</td>\n",
       "    </tr>\n",
       "    <tr>\n",
       "      <th>5</th>\n",
       "      <td>NaN</td>\n",
       "      <td>46.0</td>\n",
       "    </tr>\n",
       "    <tr>\n",
       "      <th>6</th>\n",
       "      <td>2016.0</td>\n",
       "      <td>73.0</td>\n",
       "    </tr>\n",
       "    <tr>\n",
       "      <th>7</th>\n",
       "      <td>NaN</td>\n",
       "      <td>NaN</td>\n",
       "    </tr>\n",
       "    <tr>\n",
       "      <th>8</th>\n",
       "      <td>1885.0</td>\n",
       "      <td>59.0</td>\n",
       "    </tr>\n",
       "    <tr>\n",
       "      <th>9</th>\n",
       "      <td>1850.0</td>\n",
       "      <td>160.0</td>\n",
       "    </tr>\n",
       "  </tbody>\n",
       "</table>\n",
       "</div>"
      ]
     },
     "execution_count": 15,
     "metadata": {},
     "output_type": "execute_result"
    }
   ],
   "source": [
    "# Import required modules\n",
    "import pandas as pd\n",
    "from sklearn import preprocessing\n",
    "import numpy as np\n",
    "# Set charts to view inline\n",
    "%matplotlib inline\n",
    "# Create an example dataframe with a column of unnormalized data\n",
    "data = {'score': [234,24,14,27,np.nan,46,73,np.nan,59,160], \n",
    "        'b': [1988,1980,1999,2004,2014,np.nan,2016,np.nan,1885,1850]}#,'a': [1,0,1,0,1,1,0,1,0,1],}\n",
    "df = pd.DataFrame(data)\n",
    "df"
   ]
  },
  {
   "cell_type": "code",
   "execution_count": 16,
   "metadata": {
    "collapsed": true
   },
   "outputs": [
    {
     "data": {
      "text/plain": [
       "<matplotlib.axes._subplots.AxesSubplot at 0x7f97a38ccb38>"
      ]
     },
     "execution_count": 16,
     "metadata": {},
     "output_type": "execute_result"
    },
    {
     "data": {
      "image/png": "[encoded data removed]",
      "text/plain": [
       "<matplotlib.figure.Figure at 0x7f97a38d25f8>"
      ]
     },
     "metadata": {},
     "output_type": "display_data"
    }
   ],
   "source": [
    "# View the unnormalized data\n",
    "df.b.plot(kind='bar')"
   ]
  },
  {
   "cell_type": "code",
   "execution_count": 10,
   "metadata": {},
   "outputs": [
    {
     "data": {
      "text/html": [
       "<div>\n",
       "<style>\n",
       "    .dataframe thead tr:only-child th {\n",
       "        text-align: right;\n",
       "    }\n",
       "\n",
       "    .dataframe thead th {\n",
       "        text-align: left;\n",
       "    }\n",
       "\n",
       "    .dataframe tbody tr th {\n",
       "        vertical-align: top;\n",
       "    }\n",
       "</style>\n",
       "<table border=\"1\" class=\"dataframe\">\n",
       "  <thead>\n",
       "    <tr style=\"text-align: right;\">\n",
       "      <th></th>\n",
       "      <th>0</th>\n",
       "      <th>1</th>\n",
       "    </tr>\n",
       "  </thead>\n",
       "  <tbody>\n",
       "    <tr>\n",
       "      <th>0</th>\n",
       "      <td>0.986118</td>\n",
       "      <td>1.000000</td>\n",
       "    </tr>\n",
       "    <tr>\n",
       "      <th>1</th>\n",
       "      <td>0.982152</td>\n",
       "      <td>0.106383</td>\n",
       "    </tr>\n",
       "    <tr>\n",
       "      <th>2</th>\n",
       "      <td>0.991572</td>\n",
       "      <td>0.063830</td>\n",
       "    </tr>\n",
       "    <tr>\n",
       "      <th>3</th>\n",
       "      <td>0.994051</td>\n",
       "      <td>0.119149</td>\n",
       "    </tr>\n",
       "    <tr>\n",
       "      <th>4</th>\n",
       "      <td>0.999008</td>\n",
       "      <td>0.000000</td>\n",
       "    </tr>\n",
       "    <tr>\n",
       "      <th>5</th>\n",
       "      <td>0.000000</td>\n",
       "      <td>0.200000</td>\n",
       "    </tr>\n",
       "    <tr>\n",
       "      <th>6</th>\n",
       "      <td>1.000000</td>\n",
       "      <td>0.314894</td>\n",
       "    </tr>\n",
       "    <tr>\n",
       "      <th>7</th>\n",
       "      <td>0.000000</td>\n",
       "      <td>0.000000</td>\n",
       "    </tr>\n",
       "    <tr>\n",
       "      <th>8</th>\n",
       "      <td>0.935052</td>\n",
       "      <td>0.255319</td>\n",
       "    </tr>\n",
       "    <tr>\n",
       "      <th>9</th>\n",
       "      <td>0.917700</td>\n",
       "      <td>0.685106</td>\n",
       "    </tr>\n",
       "  </tbody>\n",
       "</table>\n",
       "</div>"
      ],
      "text/plain": [
       "<div>\n",
       "<style>\n",
       "    .dataframe thead tr:only-child th {\n",
       "        text-align: right;\n",
       "    }\n",
       "\n",
       "    .dataframe thead th {\n",
       "        text-align: left;\n",
       "    }\n",
       "\n",
       "    .dataframe tbody tr th {\n",
       "        vertical-align: top;\n",
       "    }\n",
       "</style>\n",
       "<table border=\"1\" class=\"dataframe\">\n",
       "  <thead>\n",
       "    <tr style=\"text-align: right;\">\n",
       "      <th></th>\n",
       "      <th>0</th>\n",
       "      <th>1</th>\n",
       "    </tr>\n",
       "  </thead>\n",
       "  <tbody>\n",
       "    <tr>\n",
       "      <th>0</th>\n",
       "      <td>0.986118</td>\n",
       "      <td>1.000000</td>\n",
       "    </tr>\n",
       "    <tr>\n",
       "      <th>1</th>\n",
       "      <td>0.982152</td>\n",
       "      <td>0.106383</td>\n",
       "    </tr>\n",
       "    <tr>\n",
       "      <th>2</th>\n",
       "      <td>0.991572</td>\n",
       "      <td>0.063830</td>\n",
       "    </tr>\n",
       "    <tr>\n",
       "      <th>3</th>\n",
       "      <td>0.994051</td>\n",
       "      <td>0.119149</td>\n",
       "    </tr>\n",
       "    <tr>\n",
       "      <th>4</th>\n",
       "      <td>0.999008</td>\n",
       "      <td>0.000000</td>\n",
       "    </tr>\n",
       "    <tr>\n",
       "      <th>5</th>\n",
       "      <td>0.000000</td>\n",
       "      <td>0.200000</td>\n",
       "    </tr>\n",
       "    <tr>\n",
       "      <th>6</th>\n",
       "      <td>1.000000</td>\n",
       "      <td>0.314894</td>\n",
       "    </tr>\n",
       "    <tr>\n",
       "      <th>7</th>\n",
       "      <td>0.000000</td>\n",
       "      <td>0.000000</td>\n",
       "    </tr>\n",
       "    <tr>\n",
       "      <th>8</th>\n",
       "      <td>0.935052</td>\n",
       "      <td>0.255319</td>\n",
       "    </tr>\n",
       "    <tr>\n",
       "      <th>9</th>\n",
       "      <td>0.917700</td>\n",
       "      <td>0.685106</td>\n",
       "    </tr>\n",
       "  </tbody>\n",
       "</table>\n",
       "</div>"
      ]
     },
     "execution_count": 10,
     "metadata": {},
     "output_type": "execute_result"
    },
    {
     "data": {
      "image/png": "[encoded data removed]",
      "text/plain": [
       "<matplotlib.figure.Figure at 0x7f97a3979470>"
      ]
     },
     "metadata": {},
     "output_type": "display_data"
    }
   ],
   "source": [
    "x = df.values.astype(float)\n",
    "# Create a minimum and maximum processor object\n",
    "min_max_scaler = preprocessing.MinMaxScaler()\n",
    "\n",
    "# Create an object to transform the data to fit minmax processor\n",
    "x_scaled = min_max_scaler.fit_transform(x)\n",
    "\n",
    "# Run the normalizer on the dataframe\n",
    "df_normalized = pd.DataFrame(x_scaled)\n",
    "\n",
    "df_normalized.plot(kind='bar')\n",
    "# View the dataframe\n",
    "df_normalized"
   ]
  },
  {
   "cell_type": "code",
   "execution_count": 17,
   "metadata": {
    "collapsed": false
   },
   "outputs": [
    {
     "data": {
      "text/html": [
       "<div>\n",
       "<style>\n",
       "    .dataframe thead tr:only-child th {\n",
       "        text-align: right;\n",
       "    }\n",
       "\n",
       "    .dataframe thead th {\n",
       "        text-align: left;\n",
       "    }\n",
       "\n",
       "    .dataframe tbody tr th {\n",
       "        vertical-align: top;\n",
       "    }\n",
       "</style>\n",
       "<table border=\"1\" class=\"dataframe\">\n",
       "  <thead>\n",
       "    <tr style=\"text-align: right;\">\n",
       "      <th></th>\n",
       "      <th>0</th>\n",
       "      <th>1</th>\n",
       "    </tr>\n",
       "  </thead>\n",
       "  <tbody>\n",
       "    <tr>\n",
       "      <th>0</th>\n",
       "      <td>0.831325</td>\n",
       "      <td>1.000000</td>\n",
       "    </tr>\n",
       "    <tr>\n",
       "      <th>1</th>\n",
       "      <td>0.783133</td>\n",
       "      <td>0.045455</td>\n",
       "    </tr>\n",
       "    <tr>\n",
       "      <th>2</th>\n",
       "      <td>0.897590</td>\n",
       "      <td>0.000000</td>\n",
       "    </tr>\n",
       "    <tr>\n",
       "      <th>3</th>\n",
       "      <td>0.927711</td>\n",
       "      <td>0.059091</td>\n",
       "    </tr>\n",
       "    <tr>\n",
       "      <th>4</th>\n",
       "      <td>0.987952</td>\n",
       "      <td>0.298295</td>\n",
       "    </tr>\n",
       "    <tr>\n",
       "      <th>5</th>\n",
       "      <td>0.704819</td>\n",
       "      <td>0.145455</td>\n",
       "    </tr>\n",
       "    <tr>\n",
       "      <th>6</th>\n",
       "      <td>1.000000</td>\n",
       "      <td>0.268182</td>\n",
       "    </tr>\n",
       "    <tr>\n",
       "      <th>7</th>\n",
       "      <td>0.704819</td>\n",
       "      <td>0.298295</td>\n",
       "    </tr>\n",
       "    <tr>\n",
       "      <th>8</th>\n",
       "      <td>0.210843</td>\n",
       "      <td>0.204545</td>\n",
       "    </tr>\n",
       "    <tr>\n",
       "      <th>9</th>\n",
       "      <td>0.000000</td>\n",
       "      <td>0.663636</td>\n",
       "    </tr>\n",
       "  </tbody>\n",
       "</table>\n",
       "</div>"
      ],
      "text/plain": [
       "<div>\n",
       "<style>\n",
       "    .dataframe thead tr:only-child th {\n",
       "        text-align: right;\n",
       "    }\n",
       "\n",
       "    .dataframe thead th {\n",
       "        text-align: left;\n",
       "    }\n",
       "\n",
       "    .dataframe tbody tr th {\n",
       "        vertical-align: top;\n",
       "    }\n",
       "</style>\n",
       "<table border=\"1\" class=\"dataframe\">\n",
       "  <thead>\n",
       "    <tr style=\"text-align: right;\">\n",
       "      <th></th>\n",
       "      <th>0</th>\n",
       "      <th>1</th>\n",
       "    </tr>\n",
       "  </thead>\n",
       "  <tbody>\n",
       "    <tr>\n",
       "      <th>0</th>\n",
       "      <td>0.831325</td>\n",
       "      <td>1.000000</td>\n",
       "    </tr>\n",
       "    <tr>\n",
       "      <th>1</th>\n",
       "      <td>0.783133</td>\n",
       "      <td>0.045455</td>\n",
       "    </tr>\n",
       "    <tr>\n",
       "      <th>2</th>\n",
       "      <td>0.897590</td>\n",
       "      <td>0.000000</td>\n",
       "    </tr>\n",
       "    <tr>\n",
       "      <th>3</th>\n",
       "      <td>0.927711</td>\n",
       "      <td>0.059091</td>\n",
       "    </tr>\n",
       "    <tr>\n",
       "      <th>4</th>\n",
       "      <td>0.987952</td>\n",
       "      <td>0.298295</td>\n",
       "    </tr>\n",
       "    <tr>\n",
       "      <th>5</th>\n",
       "      <td>0.704819</td>\n",
       "      <td>0.145455</td>\n",
       "    </tr>\n",
       "    <tr>\n",
       "      <th>6</th>\n",
       "      <td>1.000000</td>\n",
       "      <td>0.268182</td>\n",
       "    </tr>\n",
       "    <tr>\n",
       "      <th>7</th>\n",
       "      <td>0.704819</td>\n",
       "      <td>0.298295</td>\n",
       "    </tr>\n",
       "    <tr>\n",
       "      <th>8</th>\n",
       "      <td>0.210843</td>\n",
       "      <td>0.204545</td>\n",
       "    </tr>\n",
       "    <tr>\n",
       "      <th>9</th>\n",
       "      <td>0.000000</td>\n",
       "      <td>0.663636</td>\n",
       "    </tr>\n",
       "  </tbody>\n",
       "</table>\n",
       "</div>"
      ]
     },
     "execution_count": 17,
     "metadata": {},
     "output_type": "execute_result"
    }
   ],
   "source": [
    "values = df.values\n",
    "imputer = preprocessing.Imputer()\n",
    "transformed_values = imputer.fit_transform(values)\n",
    "\n",
    "min_max_scaler = preprocessing.MinMaxScaler()\n",
    "x_scaled = min_max_scaler.fit_transform(transformed_values)\n",
    "transformed_df= pd.DataFrame(x_scaled)\n",
    "\n",
    "transformed_df"
   ]
  },
  {
   "cell_type": "code",
   "execution_count": 2,
   "metadata": {},
   "outputs": [],
   "source": [
    "import numpy as np\n",
    "def dcg_at_k(r, k, method=0):\n",
    "    \"\"\"Score is discounted cumulative gain (dcg)\n",
    "    Relevance is positive real values.  Can use binary\n",
    "    as the previous methods.\n",
    "    Example from\n",
    "    http://www.stanford.edu/class/cs276/handouts/EvaluationNew-handout-6-per.pdf\n",
    "    >>> r = [3, 2, 3, 0, 0, 1, 2, 2, 3, 0]\n",
    "    >>> dcg_at_k(r, 1)\n",
    "    3.0\n",
    "    >>> dcg_at_k(r, 1, method=1)\n",
    "    3.0\n",
    "    >>> dcg_at_k(r, 2)\n",
    "    5.0\n",
    "    >>> dcg_at_k(r, 2, method=1)\n",
    "    4.2618595071429155\n",
    "    >>> dcg_at_k(r, 10)\n",
    "    9.6051177391888114\n",
    "    >>> dcg_at_k(r, 11)\n",
    "    9.6051177391888114\n",
    "    Args:\n",
    "        r: Relevance scores (list or numpy) in rank order\n",
    "            (first element is the first item)\n",
    "        k: Number of results to consider\n",
    "        method: If 0 then weights are [1.0, 1.0, 0.6309, 0.5, 0.4307, ...]\n",
    "                If 1 then weights are [1.0, 0.6309, 0.5, 0.4307, ...]\n",
    "    Returns:\n",
    "        Discounted cumulative gain\n",
    "    \"\"\"\n",
    "    r = np.asfarray(r)[:k]\n",
    "    if r.size:\n",
    "        if method == 0:\n",
    "            return r[0] + np.sum(r[1:] / np.log2(np.arange(2, r.size + 1)))\n",
    "        elif method == 1:\n",
    "            return np.sum(r / np.log2(np.arange(2, r.size + 2)))\n",
    "        else:\n",
    "            raise ValueError('method must be 0 or 1.')\n",
    "    return 0.\n",
    "\n",
    "\n",
    "def ndcg_at_k(r, k, method=0):\n",
    "    \"\"\"Score is normalized discounted cumulative gain (ndcg)\n",
    "    Relevance is positive real values.  Can use binary\n",
    "    as the previous methods.\n",
    "    Example from\n",
    "    http://www.stanford.edu/class/cs276/handouts/EvaluationNew-handout-6-per.pdf\n",
    "    >>> r = [3, 2, 3, 0, 0, 1, 2, 2, 3, 0]\n",
    "    >>> ndcg_at_k(r, 1)\n",
    "    1.0\n",
    "    >>> r = [2, 1, 2, 0]\n",
    "    >>> ndcg_at_k(r, 4)\n",
    "    0.9203032077642922\n",
    "    >>> ndcg_at_k(r, 4, method=1)\n",
    "    0.96519546960144276\n",
    "    >>> ndcg_at_k([0], 1)\n",
    "    0.0\n",
    "    >>> ndcg_at_k([1], 2)\n",
    "    1.0\n",
    "    Args:\n",
    "        r: Relevance scores (list or numpy) in rank order\n",
    "            (first element is the first item)\n",
    "        k: Number of results to consider\n",
    "        method: If 0 then weights are [1.0, 1.0, 0.6309, 0.5, 0.4307, ...]\n",
    "                If 1 then weights are [1.0, 0.6309, 0.5, 0.4307, ...]\n",
    "    Returns:\n",
    "        Normalized discounted cumulative gain\n",
    "    \"\"\"\n",
    "    dcg_max = dcg_at_k(sorted(r, reverse=True), k, method)\n",
    "    print(dcg_max)\n",
    "    if not dcg_max:\n",
    "        return 0.\n",
    "    return dcg_at_k(r, k, method) / dcg_max"
   ]
  },
  {
   "cell_type": "code",
   "execution_count": 4,
   "metadata": {},
   "outputs": [
    {
     "name": "stdout",
     "output_type": "stream",
     "text": [
      "1.63092975357\n1.63092975357\n1.0\n1.0\n"
     ]
    }
   ],
   "source": [
    "r = [1, 2, 3, 0, 0, 1, 2, 2, 3, 0]\n",
    "r = [[1,1],[1,1],[1,0]]\n",
    "print(np.mean([ndcg_at_k(x,2,1) for x in r]))"
   ]
  },
  {
   "cell_type": "code",
   "execution_count": 7,
   "metadata": {},
   "outputs": [],
   "source": [
    "a = [1]*20"
   ]
  },
  {
   "cell_type": "code",
   "execution_count": 32,
   "metadata": {
    "collapsed": true
   },
   "outputs": [
    {
     "name": "stdout",
     "output_type": "stream",
     "text": [
      "         0                                                  1\n0       17  4276 32443 37837 3378 7650 44590 42810 28819 4...\n1       48  40070 39891 9827 39406 45156 20392 18317 19332...\n2       66  35531 33478 46208 24430 13634 30698 31407 2230...\n3       54  2383 36288 43395 41495 9102 35490 1858 20309 2...\n4       30  30816 24430 40491 32766 20309 1223 30698 23613...\n5       36  14321 17329 20475 26937 17186 38235 38276 3069...\n6       21  5958 35646 37837 1535 29796 10457 20407 12347 ...\n7       28  7569 13421 28760 30180 23430 31867 39861 2120 ...\n8       39  40117 43055 36288 37682 24827 5851 33535 28329...\n9       12  28623 39682 29430 18187 44590 44986 38780 2300...\n10      37  7569 1934 28795 3687 20309 21006 19517 30698 2...\n11      32  11122 41063 3687 19229 44181 21006 10212 30698...\n12       7          12298 34605 37837 14977 41703 20629 30698\n13       6                37837 11423 20295 25507 30698 35133\n14       7             6403 6510 33816 28819 2120 45056 30698\n15      96  19766 31600 46208 41222 30698 14977 4057 4414 ...\n16      17  41589 5356 2061 38073 2595 29552 14977 17692 5...\n17      45  17782 23709 21329 31463 39491 18817 17692 3204...\n18       4                            39566 35531 27586 30698\n19      13  20919 31990 27586 2311 14977 20475 6281 302 31...\n20      28  34451 20016 20309 9818 30698 31876 31740 27200...\n21       4                            18700 11007 30698 45829\n22      67  16508 26347 24430 30266 2176 13244 31336 41651...\n23      47  35531 33712 33486 10612 31938 16212 21182 3687...\n24       0                                               None\n25      18  9046 33478 615 15326 42810 4020 19074 32555 11...\n26      33  12236 21046 14956 31683 34357 11423 41703 6861...\n27      69  39064 31548 45156 2176 13244 28989 22153 28912...\n28      72  14499 14300 24941 17817 31463 24430 27802 2047...\n29      26  2988 30858 4233 31866 12675 26852 35153 4637 3...\n...    ...                                                ...\n16950   29  13511 24080 27227 11851 30269 13657 45222 4602...\n16951   37  27546 23378 6300 46066 22211 16673 6861 2849 2...\n16952   42  21147 12711 11549 23279 40349 12277 35446 3802...\n16953   47  5996 14496 12276 43438 13796 13059 7736 17014 ...\n16954   36  41754 20571 1934 44286 20344 3688 21156 18544 ...\n16955    0                                               None\n16956   18  19021 10108 21046 6553 17427 2796 32668 18704 ...\n16957   29  41754 29430 20392 33509 3023 44286 28021 29466...\n16958   26  6552 709 12937 25875 13154 5948 23391 12054 24...\n16959  186  41754 41063 11513 38516 19377 8126 22700 2592 ...\n16960   16  44034 31876 16833 18372 39218 45014 21550 2260...\n16961   17  44034 31876 16833 21824 18372 36171 17508 2155...\n16962    0                                               None\n16963   49  16401 41120 38139 11513 40219 38250 13104 2270...\n16964   46  1934 1540 12530 8062 35947 38928 39237 40738 3...\n16965   19  31281 35272 1934 41703 33789 45653 11357 692 3...\n16966   19  14485 11065 18372 8015 3046 26128 43729 33581 ...\n16967   24  23098 35446 10657 1678 15718 40167 6861 9375 1...\n16968    0                                               None\n16969    0                                               None\n16970   22  15386 3687 29430 6398 31374 31876 40855 21523 ...\n16971   32  37868 16807 38063 589 44817 12932 44720 2768 1...\n16972   25  9415 17508 28407 35350 30698 26858 6935 37837 ...\n16973   28  38584 40644 4904 36827 40543 32468 7115 24545 ...\n16974   58  41754 9828 1934 16381 2651 8113 20344 18544 14...\n16975   25  38665 11821 6711 638 14845 29089 44590 13424 5...\n16976    0                                               None\n16977   39  16120 13421 11122 1858 4905 29261 12370 23480 ...\n16978   22  7196 1540 2651 13836 39200 20630 4414 24950 41...\n16979   58  16220 27218 18009 28117 30270 6711 21863 6858 ...\n\n[16980 rows x 2 columns]\n14607    357\n16045    325\n4179     269\n3981     253\n7545     217\n16959    186\n9103     173\n12244    168\n5120     159\n917      148\n9966     139\n15324    134\n226      132\n11328    126\n16896    125\n10944    124\n16386    117\n3440     112\n888      111\n11300    111\n10905    109\n16318    109\n11538    107\n477      107\n15815    106\n10605    103\n14988    102\n767      102\n9026     102\n7049     101\n        ... \n3222       0\n7661       0\n3243       0\n14712      0\n7684       0\n3235       0\n12731      0\n7688       0\n7690       0\n3230       0\n7694       0\n7695       0\n7697       0\n7698       0\n7703       0\n7727       0\n7706       0\n7709       0\n3214       0\n7712       0\n14735      0\n3210       0\n7713       0\n7714       0\n7715       0\n12725      0\n7717       0\n7718       0\n7720       0\n8489       0\nName: 0, Length: 16980, dtype: int64\n"
     ]
    }
   ],
   "source": [
    "import pandas as pd\n",
    "\n",
    "path='/home/wanli/data/Extended_ctr/citeulike_a_extended/item-tag.dat'\n",
    "df = pd.read_csv(path, delimiter='|', names=['a'])\n",
    "df = df.a.str.split(' ', n=1, expand=True,)\n",
    "print(df)\n",
    "# df.sort_values(['0','1'], ascending=[True,True])\n",
    "print(df[0].astype(int).sort_values(ascending=False))"
   ]
  },
  {
   "cell_type": "code",
   "execution_count": 1,
   "metadata": {
    "collapsed": true
   },
   "outputs": [
    {
     "name": "stdout",
     "output_type": "stream",
     "text": [
      "[[  1.   2.   3.   4.   5.   6.]\n [  7.   8.   9.  10.  11.  12.]] \n====\n [[[  1.   2.   3.   4.   5.   6.]\n  [  7.   8.   9.  10.  11.  12.]\n  [ 12.  12.  12.  12.  12.  12.]]\n\n [[ 12.  12.  12.  12.  12.  12.]\n  [ 12.  12.  12.  12.  12.  12.]\n  [ 12.  12.  12.  12.  12.  12.]]] \n====\n [[[  91.  217.]\n  [ 217.  559.]\n  [ 252.  684.]]\n\n [[ 252.  684.]\n  [ 252.  684.]\n  [ 252.  684.]]] [2 3 2]\n"
     ]
    }
   ],
   "source": [
    "import tensorflow as tf\n",
    "import numpy as np \n",
    "\n",
    "a = tf.constant(np.arange(1, 13, dtype=np.float32),\n",
    "                shape=[2, 6])\n",
    "b = tf.constant(np.arange(1, 13, dtype=np.float32),\n",
    "                shape=[2, 3,6])\n",
    "aa = tf.reshape(a,[tf.shape(a)[0],1,tf.shape(a)[1]])\n",
    "sess = tf.InteractiveSession()"
   ]
  },
  {
   "cell_type": "code",
   "execution_count": 21,
   "metadata": {
    "collapsed": true
   },
   "outputs": [
    {
     "name": "stdout",
     "output_type": "stream",
     "text": [
      "[[  1.   2.   3.   4.   5.   6.]\n [  7.   8.   9.  10.  11.  12.]] \n====\n [[[  1.   2.   3.   4.   5.   6.]\n  [  7.   8.   9.  10.  11.  12.]\n  [ 12.  12.  12.  12.  12.  12.]]\n\n [[ 12.  12.  12.  12.  12.  12.]\n  [ 12.  12.  12.  12.  12.  12.]\n  [ 12.  12.  12.  12.  12.  12.]]] \n====\n [[[  91.  217.]\n  [ 217.  559.]\n  [ 252.  684.]]\n\n [[ 252.  684.]\n  [ 252.  684.]\n  [ 252.  684.]]] [2 3 2]\n"
     ]
    }
   ],
   "source": [
    "c = tf.tensordot(b,a,axes=[[2],[1]])\n",
    "print(a.eval(),'\\n====\\n',b.eval(),'\\n====\\n',c.eval(), tf.shape(c).eval())"
   ]
  },
  {
   "cell_type": "code",
   "execution_count": 4,
   "metadata": {},
   "outputs": [
    {
     "name": "stdout",
     "output_type": "stream",
     "text": [
      "91.0\n217.0\n252.0\n"
     ]
    }
   ],
   "source": [
    "print(np.dot([  1. ,  2.,   3. ,  4.  , 5.,   6.], [  1. ,  2.,   3. ,  4.  , 5.,   6.]))\n",
    "print(np.dot([  1. ,  2.,   3. ,  4.  , 5.,   6.], [  7. ,  8.,   9.  ,10.  ,11. , 12.]))\n",
    "print(np.dot([  1. ,  2.,   3. ,  4.  , 5.,   6.], [12.,  12.,  12.,  12.,  12.,  12.]))"
   ]
  },
  {
   "cell_type": "code",
   "execution_count": 5,
   "metadata": {},
   "outputs": [
    {
     "name": "stdout",
     "output_type": "stream",
     "text": [
      "684.0\n"
     ]
    }
   ],
   "source": [
    "print(np.dot([   7.  , 8. ,  9. , 10.,  11. , 12.], [12.,  12.,  12.,  12.,  12.,  12.]))"
   ]
  },
  {
   "cell_type": "code",
   "execution_count": 22,
   "metadata": {
    "collapsed": true
   },
   "outputs": [
    {
     "name": "stdout",
     "output_type": "stream",
     "text": [
      "[[[  1.   2.   3.   4.   5.   6.]]\n\n [[  7.   8.   9.  10.  11.  12.]]] \n====\n [[[  1.   2.   3.   4.   5.   6.]\n  [  7.   8.   9.  10.  11.  12.]\n  [ 12.  12.  12.  12.  12.  12.]]\n\n [[ 12.  12.  12.  12.  12.  12.]\n  [ 12.  12.  12.  12.  12.  12.]\n  [ 12.  12.  12.  12.  12.  12.]]] \n====\n [[  91.  217.  252.]\n [ 684.  684.  684.]] [2 3]\n"
     ]
    }
   ],
   "source": [
    "d = tf.einsum('aij,aj->ai',b, a)  # out[a,i,k] = sum_j s[a,i,j] * t[a, j, k])\n",
    "print(aa.eval(),'\\n====\\n',b.eval(),'\\n====\\n',d.eval(), tf.shape(d).eval())"
   ]
  },
  {
   "cell_type": "code",
   "execution_count": 2,
   "metadata": {},
   "outputs": [
    {
     "name": "stdout",
     "output_type": "stream",
     "text": [
      "WARNING:tensorflow:The default value of combiner will change from \"mean\" to \"sqrtn\" after 2016/11/01.\n"
     ]
    },
    {
     "name": "stdout",
     "output_type": "stream",
     "text": [
      "WARNING:tensorflow:From /usr/local/lib/python3.5/dist-packages/tensorflow/python/util/tf_should_use.py:175: initialize_all_variables (from tensorflow.python.ops.variables) is deprecated and will be removed after 2017-03-02.\nInstructions for updating:\nUse `tf.global_variables_initializer` instead.\n"
     ]
    },
    {
     "name": "stdout",
     "output_type": "stream",
     "text": [
      "[  9.  36.  81.]\n"
     ]
    }
   ],
   "source": [
    "import tensorflow as tf\n",
    "import numpy as np\n",
    "\n",
    "example = tf.SparseTensor(indices=[[0], [1], [2]], values=[3, 6, 9], dense_shape=[3])\n",
    "\n",
    "vocabulary_size = 10\n",
    "embedding_size = 1\n",
    "var = np.array([0.0, 1.0, 4.0, 9.0, 16.0, 25.0, 36.0, 49.0, 64.0, 81.0])\n",
    "embeddings = tf.Variable(var)\n",
    "\n",
    "embed = tf.nn.embedding_lookup_sparse(embeddings, example, None)\n",
    "\n",
    "with tf.Session() as sess:\n",
    "    sess.run(tf.initialize_all_variables())\n",
    "    print(sess.run(embed)) # prints [  9.  36.  81.]"
   ]
  },
  {
   "cell_type": "code",
   "execution_count": 1,
   "metadata": {},
   "outputs": [
    {
     "name": "stdout",
     "output_type": "stream",
     "text": [
      "Tensor(\"Const:0\", shape=(4, 1), dtype=int64)\n[[0]\n [1]\n [2]\n [3]]\n[0 2 0 1]\n"
     ]
    }
   ],
   "source": [
    "import tensorflow as tf\n",
    "import numpy as np \n",
    "k = 6\n",
    "m = 4\n",
    "tags = 3, [[0,0],[1,1],[2,2],[2,0]]\n",
    "batch_size = 4\n",
    "idx = tf.constant(np.arange(batch_size, dtype=np.int64),\n",
    "                shape=[ batch_size,1])\n",
    "print(idx)\n",
    "v_idx = tf.constant([0,2,0,1])\n",
    "\n",
    "sess = tf.InteractiveSession()\n",
    "tf.global_variables_initializer().run()\n",
    "print(idx.eval())\n",
    "print(v_idx.eval())"
   ]
  },
  {
   "cell_type": "code",
   "execution_count": 6,
   "metadata": {
    "collapsed": true
   },
   "outputs": [
    {
     "name": "stdout",
     "output_type": "stream",
     "text": [
      "SparseTensorValue(indices=array([[0, 0],\n       [0, 1],\n       [1, 3],\n       [2, 0],\n       [2, 1]]), values=array([ 1.,  1.,  1.,  1.,  1.], dtype=float32), dense_shape=array([ 5, 10]))\nWARNING:tensorflow:The default value of combiner will change from \"mean\" to \"sqrtn\" after 2016/11/01.\n"
     ]
    },
    {
     "ename": "TypeError",
     "evalue": "Failed to convert object of type <class 'tensorflow.python.framework.sparse_tensor.SparseTensor'> to Tensor. Contents: SparseTensor(indices=Tensor(\"SparseTensor_6/indices:0\", shape=(5, 2), dtype=int64), values=Tensor(\"ones_2:0\", shape=(5,), dtype=float32), dense_shape=Tensor(\"SparseTensor_6/dense_shape:0\", shape=(2,), dtype=int64)). Consider casting elements to a supported type.",
     "traceback": [
      "\u001b[1;31m---------------------------------------------------------------------------\u001b[0m",
      "\u001b[1;31mTypeError\u001b[0m                                 Traceback (most recent call last)",
      "\u001b[1;32m/usr/local/lib/python3.5/dist-packages/tensorflow/python/framework/tensor_util.py\u001b[0m in \u001b[0;36mmake_tensor_proto\u001b[1;34m(values, dtype, shape, verify_shape)\u001b[0m\n\u001b[0;32m    459\u001b[0m     \u001b[1;32mtry\u001b[0m\u001b[1;33m:\u001b[0m\u001b[1;33m\u001b[0m\u001b[0m\n\u001b[1;32m--> 460\u001b[1;33m       \u001b[0mstr_values\u001b[0m \u001b[1;33m=\u001b[0m \u001b[1;33m[\u001b[0m\u001b[0mcompat\u001b[0m\u001b[1;33m.\u001b[0m\u001b[0mas_bytes\u001b[0m\u001b[1;33m(\u001b[0m\u001b[0mx\u001b[0m\u001b[1;33m)\u001b[0m \u001b[1;32mfor\u001b[0m \u001b[0mx\u001b[0m \u001b[1;32min\u001b[0m \u001b[0mproto_values\u001b[0m\u001b[1;33m]\u001b[0m\u001b[1;33m\u001b[0m\u001b[0m\n\u001b[0m\u001b[0;32m    461\u001b[0m     \u001b[1;32mexcept\u001b[0m \u001b[0mTypeError\u001b[0m\u001b[1;33m:\u001b[0m\u001b[1;33m\u001b[0m\u001b[0m\n",
      "\u001b[1;32m/usr/local/lib/python3.5/dist-packages/tensorflow/python/framework/tensor_util.py\u001b[0m in \u001b[0;36m<listcomp>\u001b[1;34m(.0)\u001b[0m\n\u001b[0;32m    459\u001b[0m     \u001b[1;32mtry\u001b[0m\u001b[1;33m:\u001b[0m\u001b[1;33m\u001b[0m\u001b[0m\n\u001b[1;32m--> 460\u001b[1;33m       \u001b[0mstr_values\u001b[0m \u001b[1;33m=\u001b[0m \u001b[1;33m[\u001b[0m\u001b[0mcompat\u001b[0m\u001b[1;33m.\u001b[0m\u001b[0mas_bytes\u001b[0m\u001b[1;33m(\u001b[0m\u001b[0mx\u001b[0m\u001b[1;33m)\u001b[0m \u001b[1;32mfor\u001b[0m \u001b[0mx\u001b[0m \u001b[1;32min\u001b[0m \u001b[0mproto_values\u001b[0m\u001b[1;33m]\u001b[0m\u001b[1;33m\u001b[0m\u001b[0m\n\u001b[0m\u001b[0;32m    461\u001b[0m     \u001b[1;32mexcept\u001b[0m \u001b[0mTypeError\u001b[0m\u001b[1;33m:\u001b[0m\u001b[1;33m\u001b[0m\u001b[0m\n",
      "\u001b[1;32m/usr/local/lib/python3.5/dist-packages/tensorflow/python/util/compat.py\u001b[0m in \u001b[0;36mas_bytes\u001b[1;34m(bytes_or_text, encoding)\u001b[0m\n\u001b[0;32m     64\u001b[0m     raise TypeError('Expected binary or unicode string, got %r' %\n\u001b[1;32m---> 65\u001b[1;33m                     (bytes_or_text,))\n\u001b[0m\u001b[0;32m     66\u001b[0m \u001b[1;33m\u001b[0m\u001b[0m\n",
      "\u001b[1;31mTypeError\u001b[0m: Expected binary or unicode string, got <tensorflow.python.framework.sparse_tensor.SparseTensor object at 0x7fca58f04f28>",
      "\nDuring handling of the above exception, another exception occurred:\n",
      "\u001b[1;31mTypeError\u001b[0m                                 Traceback (most recent call last)",
      "\u001b[1;32m<ipython-input-6-29fb36f47447>\u001b[0m in \u001b[0;36m<module>\u001b[1;34m()\u001b[0m\n\u001b[0;32m      7\u001b[0m \u001b[1;33m\u001b[0m\u001b[0m\n\u001b[0;32m      8\u001b[0m \u001b[0mprint\u001b[0m\u001b[1;33m(\u001b[0m\u001b[0mtags_matrix\u001b[0m\u001b[1;33m.\u001b[0m\u001b[0meval\u001b[0m\u001b[1;33m(\u001b[0m\u001b[1;33m)\u001b[0m\u001b[1;33m)\u001b[0m\u001b[1;33m\u001b[0m\u001b[0m\n\u001b[1;32m----> 9\u001b[1;33m \u001b[0mtags_embeddings\u001b[0m \u001b[1;33m=\u001b[0m \u001b[0mtf\u001b[0m\u001b[1;33m.\u001b[0m\u001b[0mnn\u001b[0m\u001b[1;33m.\u001b[0m\u001b[0membedding_lookup_sparse\u001b[0m\u001b[1;33m(\u001b[0m\u001b[0mtags_matrix\u001b[0m\u001b[1;33m,\u001b[0m \u001b[0mtags_actual\u001b[0m\u001b[1;33m,\u001b[0m\u001b[1;32mNone\u001b[0m\u001b[1;33m)\u001b[0m\u001b[1;33m\u001b[0m\u001b[0m\n\u001b[0m\u001b[0;32m     10\u001b[0m \u001b[0msess\u001b[0m\u001b[1;33m.\u001b[0m\u001b[0mrun\u001b[0m\u001b[1;33m(\u001b[0m\u001b[0mtf\u001b[0m\u001b[1;33m.\u001b[0m\u001b[0mglobal_variables_initializer\u001b[0m\u001b[1;33m(\u001b[0m\u001b[1;33m)\u001b[0m\u001b[1;33m)\u001b[0m\u001b[1;33m\u001b[0m\u001b[0m\n\u001b[0;32m     11\u001b[0m \u001b[0mprint\u001b[0m\u001b[1;33m(\u001b[0m\u001b[0mtags_actual\u001b[0m\u001b[1;33m.\u001b[0m\u001b[0meval\u001b[0m\u001b[1;33m(\u001b[0m\u001b[1;33m)\u001b[0m\u001b[1;33m)\u001b[0m\u001b[1;33m\u001b[0m\u001b[0m\n",
      "\u001b[1;32m/usr/local/lib/python3.5/dist-packages/tensorflow/python/ops/embedding_ops.py\u001b[0m in \u001b[0;36membedding_lookup_sparse\u001b[1;34m(params, sp_ids, sp_weights, partition_strategy, name, combiner, max_norm)\u001b[0m\n\u001b[0;32m    409\u001b[0m \u001b[1;33m\u001b[0m\u001b[0m\n\u001b[0;32m    410\u001b[0m     embeddings = embedding_lookup(\n\u001b[1;32m--> 411\u001b[1;33m         params, ids, partition_strategy=partition_strategy, max_norm=max_norm)\n\u001b[0m\u001b[0;32m    412\u001b[0m     \u001b[1;32mif\u001b[0m \u001b[1;32mnot\u001b[0m \u001b[0mignore_weights\u001b[0m\u001b[1;33m:\u001b[0m\u001b[1;33m\u001b[0m\u001b[0m\n\u001b[0;32m    413\u001b[0m       \u001b[0mweights\u001b[0m \u001b[1;33m=\u001b[0m \u001b[0msp_weights\u001b[0m\u001b[1;33m.\u001b[0m\u001b[0mvalues\u001b[0m\u001b[1;33m\u001b[0m\u001b[0m\n",
      "\u001b[1;32m/usr/local/lib/python3.5/dist-packages/tensorflow/python/ops/embedding_ops.py\u001b[0m in \u001b[0;36membedding_lookup\u001b[1;34m(params, ids, partition_strategy, name, validate_indices, max_norm)\u001b[0m\n\u001b[0;32m    292\u001b[0m       \u001b[0mname\u001b[0m\u001b[1;33m=\u001b[0m\u001b[0mname\u001b[0m\u001b[1;33m,\u001b[0m\u001b[1;33m\u001b[0m\u001b[0m\n\u001b[0;32m    293\u001b[0m       \u001b[0mmax_norm\u001b[0m\u001b[1;33m=\u001b[0m\u001b[0mmax_norm\u001b[0m\u001b[1;33m,\u001b[0m\u001b[1;33m\u001b[0m\u001b[0m\n\u001b[1;32m--> 294\u001b[1;33m       transform_fn=None)\n\u001b[0m\u001b[0;32m    295\u001b[0m \u001b[1;33m\u001b[0m\u001b[0m\n\u001b[0;32m    296\u001b[0m \u001b[1;33m\u001b[0m\u001b[0m\n",
      "\u001b[1;32m/usr/local/lib/python3.5/dist-packages/tensorflow/python/ops/embedding_ops.py\u001b[0m in \u001b[0;36m_embedding_lookup_and_transform\u001b[1;34m(params, ids, partition_strategy, name, max_norm, transform_fn)\u001b[0m\n\u001b[0;32m    121\u001b[0m     \u001b[1;32mif\u001b[0m \u001b[0mnp\u001b[0m \u001b[1;33m==\u001b[0m \u001b[1;36m1\u001b[0m \u001b[1;32mand\u001b[0m \u001b[1;33m(\u001b[0m\u001b[0mtransform_fn\u001b[0m \u001b[1;32mis\u001b[0m \u001b[1;32mNone\u001b[0m \u001b[1;32mor\u001b[0m \u001b[0mids\u001b[0m\u001b[1;33m.\u001b[0m\u001b[0mget_shape\u001b[0m\u001b[1;33m(\u001b[0m\u001b[1;33m)\u001b[0m\u001b[1;33m.\u001b[0m\u001b[0mndims\u001b[0m \u001b[1;33m==\u001b[0m \u001b[1;36m1\u001b[0m\u001b[1;33m)\u001b[0m\u001b[1;33m:\u001b[0m\u001b[1;33m\u001b[0m\u001b[0m\n\u001b[0;32m    122\u001b[0m       \u001b[1;32mwith\u001b[0m \u001b[0mops\u001b[0m\u001b[1;33m.\u001b[0m\u001b[0mcolocate_with\u001b[0m\u001b[1;33m(\u001b[0m\u001b[0mparams\u001b[0m\u001b[1;33m[\u001b[0m\u001b[1;36m0\u001b[0m\u001b[1;33m]\u001b[0m\u001b[1;33m)\u001b[0m\u001b[1;33m:\u001b[0m\u001b[1;33m\u001b[0m\u001b[0m\n\u001b[1;32m--> 123\u001b[1;33m         \u001b[0mresult\u001b[0m \u001b[1;33m=\u001b[0m \u001b[0m_gather_and_clip\u001b[0m\u001b[1;33m(\u001b[0m\u001b[0mparams\u001b[0m\u001b[1;33m[\u001b[0m\u001b[1;36m0\u001b[0m\u001b[1;33m]\u001b[0m\u001b[1;33m,\u001b[0m \u001b[0mids\u001b[0m\u001b[1;33m,\u001b[0m \u001b[0mmax_norm\u001b[0m\u001b[1;33m,\u001b[0m \u001b[0mname\u001b[0m\u001b[1;33m=\u001b[0m\u001b[0mname\u001b[0m\u001b[1;33m)\u001b[0m\u001b[1;33m\u001b[0m\u001b[0m\n\u001b[0m\u001b[0;32m    124\u001b[0m         \u001b[1;32mif\u001b[0m \u001b[0mtransform_fn\u001b[0m \u001b[1;32mis\u001b[0m \u001b[1;32mnot\u001b[0m \u001b[1;32mNone\u001b[0m\u001b[1;33m:\u001b[0m\u001b[1;33m\u001b[0m\u001b[0m\n\u001b[0;32m    125\u001b[0m           \u001b[0mresult\u001b[0m \u001b[1;33m=\u001b[0m \u001b[0mtransform_fn\u001b[0m\u001b[1;33m(\u001b[0m\u001b[0mresult\u001b[0m\u001b[1;33m)\u001b[0m\u001b[1;33m\u001b[0m\u001b[0m\n",
      "\u001b[1;32m/usr/local/lib/python3.5/dist-packages/tensorflow/python/ops/embedding_ops.py\u001b[0m in \u001b[0;36m_gather_and_clip\u001b[1;34m(params, ids, max_norm, name)\u001b[0m\n\u001b[0;32m     55\u001b[0m     \u001b[0membs\u001b[0m \u001b[1;33m=\u001b[0m \u001b[0mparams\u001b[0m\u001b[1;33m.\u001b[0m\u001b[0msparse_read\u001b[0m\u001b[1;33m(\u001b[0m\u001b[0mids\u001b[0m\u001b[1;33m,\u001b[0m \u001b[0mname\u001b[0m\u001b[1;33m=\u001b[0m\u001b[0mname\u001b[0m\u001b[1;33m)\u001b[0m\u001b[1;33m\u001b[0m\u001b[0m\n\u001b[0;32m     56\u001b[0m   \u001b[1;32melse\u001b[0m\u001b[1;33m:\u001b[0m\u001b[1;33m\u001b[0m\u001b[0m\n\u001b[1;32m---> 57\u001b[1;33m     \u001b[0membs\u001b[0m \u001b[1;33m=\u001b[0m \u001b[0marray_ops\u001b[0m\u001b[1;33m.\u001b[0m\u001b[0mgather\u001b[0m\u001b[1;33m(\u001b[0m\u001b[0mparams\u001b[0m\u001b[1;33m,\u001b[0m \u001b[0mids\u001b[0m\u001b[1;33m,\u001b[0m \u001b[0mname\u001b[0m\u001b[1;33m=\u001b[0m\u001b[0mname\u001b[0m\u001b[1;33m)\u001b[0m\u001b[1;33m\u001b[0m\u001b[0m\n\u001b[0m\u001b[0;32m     58\u001b[0m   \u001b[1;32mif\u001b[0m \u001b[0mmax_norm\u001b[0m \u001b[1;32mis\u001b[0m \u001b[1;32mNone\u001b[0m\u001b[1;33m:\u001b[0m\u001b[1;33m\u001b[0m\u001b[0m\n\u001b[0;32m     59\u001b[0m     \u001b[1;32mreturn\u001b[0m \u001b[0membs\u001b[0m\u001b[1;33m\u001b[0m\u001b[0m\n",
      "\u001b[1;32m/usr/local/lib/python3.5/dist-packages/tensorflow/python/ops/array_ops.py\u001b[0m in \u001b[0;36mgather\u001b[1;34m(params, indices, validate_indices, name, axis)\u001b[0m\n\u001b[0;32m   2407\u001b[0m   \u001b[1;32mif\u001b[0m \u001b[0maxis\u001b[0m \u001b[1;33m==\u001b[0m \u001b[1;36m0\u001b[0m\u001b[1;33m:\u001b[0m\u001b[1;33m\u001b[0m\u001b[0m\n\u001b[0;32m   2408\u001b[0m     return gen_array_ops.gather(params, indices,\n\u001b[1;32m-> 2409\u001b[1;33m                                 validate_indices=validate_indices, name=name)\n\u001b[0m\u001b[0;32m   2410\u001b[0m   \u001b[1;32melse\u001b[0m\u001b[1;33m:\u001b[0m\u001b[1;33m\u001b[0m\u001b[0m\n\u001b[0;32m   2411\u001b[0m     \u001b[1;32mreturn\u001b[0m \u001b[0mgen_array_ops\u001b[0m\u001b[1;33m.\u001b[0m\u001b[0mgather_v2\u001b[0m\u001b[1;33m(\u001b[0m\u001b[0mparams\u001b[0m\u001b[1;33m,\u001b[0m \u001b[0mindices\u001b[0m\u001b[1;33m,\u001b[0m \u001b[0maxis\u001b[0m\u001b[1;33m,\u001b[0m \u001b[0mname\u001b[0m\u001b[1;33m=\u001b[0m\u001b[0mname\u001b[0m\u001b[1;33m)\u001b[0m\u001b[1;33m\u001b[0m\u001b[0m\n",
      "\u001b[1;32m/usr/local/lib/python3.5/dist-packages/tensorflow/python/ops/gen_array_ops.py\u001b[0m in \u001b[0;36mgather\u001b[1;34m(params, indices, validate_indices, name)\u001b[0m\n\u001b[0;32m   1217\u001b[0m   \"\"\"\n\u001b[0;32m   1218\u001b[0m   result = _op_def_lib.apply_op(\"Gather\", params=params, indices=indices,\n\u001b[1;32m-> 1219\u001b[1;33m                                 validate_indices=validate_indices, name=name)\n\u001b[0m\u001b[0;32m   1220\u001b[0m   \u001b[1;32mreturn\u001b[0m \u001b[0mresult\u001b[0m\u001b[1;33m\u001b[0m\u001b[0m\n\u001b[0;32m   1221\u001b[0m \u001b[1;33m\u001b[0m\u001b[0m\n",
      "\u001b[1;32m/usr/local/lib/python3.5/dist-packages/tensorflow/python/framework/op_def_library.py\u001b[0m in \u001b[0;36mapply_op\u001b[1;34m(self, op_type_name, name, **keywords)\u001b[0m\n\u001b[0;32m    491\u001b[0m           \u001b[1;32mexcept\u001b[0m \u001b[0mTypeError\u001b[0m \u001b[1;32mas\u001b[0m \u001b[0merr\u001b[0m\u001b[1;33m:\u001b[0m\u001b[1;33m\u001b[0m\u001b[0m\n\u001b[0;32m    492\u001b[0m             \u001b[1;32mif\u001b[0m \u001b[0mdtype\u001b[0m \u001b[1;32mis\u001b[0m \u001b[1;32mNone\u001b[0m\u001b[1;33m:\u001b[0m\u001b[1;33m\u001b[0m\u001b[0m\n\u001b[1;32m--> 493\u001b[1;33m               \u001b[1;32mraise\u001b[0m \u001b[0merr\u001b[0m\u001b[1;33m\u001b[0m\u001b[0m\n\u001b[0m\u001b[0;32m    494\u001b[0m             \u001b[1;32melse\u001b[0m\u001b[1;33m:\u001b[0m\u001b[1;33m\u001b[0m\u001b[0m\n\u001b[0;32m    495\u001b[0m               raise TypeError(\n",
      "\u001b[1;32m/usr/local/lib/python3.5/dist-packages/tensorflow/python/framework/op_def_library.py\u001b[0m in \u001b[0;36mapply_op\u001b[1;34m(self, op_type_name, name, **keywords)\u001b[0m\n\u001b[0;32m    488\u001b[0m                 \u001b[0mdtype\u001b[0m\u001b[1;33m=\u001b[0m\u001b[0mdtype\u001b[0m\u001b[1;33m,\u001b[0m\u001b[1;33m\u001b[0m\u001b[0m\n\u001b[0;32m    489\u001b[0m                 \u001b[0mas_ref\u001b[0m\u001b[1;33m=\u001b[0m\u001b[0minput_arg\u001b[0m\u001b[1;33m.\u001b[0m\u001b[0mis_ref\u001b[0m\u001b[1;33m,\u001b[0m\u001b[1;33m\u001b[0m\u001b[0m\n\u001b[1;32m--> 490\u001b[1;33m                 preferred_dtype=default_dtype)\n\u001b[0m\u001b[0;32m    491\u001b[0m           \u001b[1;32mexcept\u001b[0m \u001b[0mTypeError\u001b[0m \u001b[1;32mas\u001b[0m \u001b[0merr\u001b[0m\u001b[1;33m:\u001b[0m\u001b[1;33m\u001b[0m\u001b[0m\n\u001b[0;32m    492\u001b[0m             \u001b[1;32mif\u001b[0m \u001b[0mdtype\u001b[0m \u001b[1;32mis\u001b[0m \u001b[1;32mNone\u001b[0m\u001b[1;33m:\u001b[0m\u001b[1;33m\u001b[0m\u001b[0m\n",
      "\u001b[1;32m/usr/local/lib/python3.5/dist-packages/tensorflow/python/framework/ops.py\u001b[0m in \u001b[0;36minternal_convert_to_tensor\u001b[1;34m(value, dtype, name, as_ref, preferred_dtype)\u001b[0m\n\u001b[0;32m    674\u001b[0m \u001b[1;33m\u001b[0m\u001b[0m\n\u001b[0;32m    675\u001b[0m         \u001b[1;32mif\u001b[0m \u001b[0mret\u001b[0m \u001b[1;32mis\u001b[0m \u001b[1;32mNone\u001b[0m\u001b[1;33m:\u001b[0m\u001b[1;33m\u001b[0m\u001b[0m\n\u001b[1;32m--> 676\u001b[1;33m           \u001b[0mret\u001b[0m \u001b[1;33m=\u001b[0m \u001b[0mconversion_func\u001b[0m\u001b[1;33m(\u001b[0m\u001b[0mvalue\u001b[0m\u001b[1;33m,\u001b[0m \u001b[0mdtype\u001b[0m\u001b[1;33m=\u001b[0m\u001b[0mdtype\u001b[0m\u001b[1;33m,\u001b[0m \u001b[0mname\u001b[0m\u001b[1;33m=\u001b[0m\u001b[0mname\u001b[0m\u001b[1;33m,\u001b[0m \u001b[0mas_ref\u001b[0m\u001b[1;33m=\u001b[0m\u001b[0mas_ref\u001b[0m\u001b[1;33m)\u001b[0m\u001b[1;33m\u001b[0m\u001b[0m\n\u001b[0m\u001b[0;32m    677\u001b[0m \u001b[1;33m\u001b[0m\u001b[0m\n\u001b[0;32m    678\u001b[0m         \u001b[1;32mif\u001b[0m \u001b[0mret\u001b[0m \u001b[1;32mis\u001b[0m \u001b[0mNotImplemented\u001b[0m\u001b[1;33m:\u001b[0m\u001b[1;33m\u001b[0m\u001b[0m\n",
      "\u001b[1;32m/usr/local/lib/python3.5/dist-packages/tensorflow/python/framework/constant_op.py\u001b[0m in \u001b[0;36m_constant_tensor_conversion_function\u001b[1;34m(v, dtype, name, as_ref)\u001b[0m\n\u001b[0;32m    119\u001b[0m                                          as_ref=False):\n\u001b[0;32m    120\u001b[0m   \u001b[0m_\u001b[0m \u001b[1;33m=\u001b[0m \u001b[0mas_ref\u001b[0m\u001b[1;33m\u001b[0m\u001b[0m\n\u001b[1;32m--> 121\u001b[1;33m   \u001b[1;32mreturn\u001b[0m \u001b[0mconstant\u001b[0m\u001b[1;33m(\u001b[0m\u001b[0mv\u001b[0m\u001b[1;33m,\u001b[0m \u001b[0mdtype\u001b[0m\u001b[1;33m=\u001b[0m\u001b[0mdtype\u001b[0m\u001b[1;33m,\u001b[0m \u001b[0mname\u001b[0m\u001b[1;33m=\u001b[0m\u001b[0mname\u001b[0m\u001b[1;33m)\u001b[0m\u001b[1;33m\u001b[0m\u001b[0m\n\u001b[0m\u001b[0;32m    122\u001b[0m \u001b[1;33m\u001b[0m\u001b[0m\n\u001b[0;32m    123\u001b[0m \u001b[1;33m\u001b[0m\u001b[0m\n",
      "\u001b[1;32m/usr/local/lib/python3.5/dist-packages/tensorflow/python/framework/constant_op.py\u001b[0m in \u001b[0;36mconstant\u001b[1;34m(value, dtype, shape, name, verify_shape)\u001b[0m\n\u001b[0;32m    100\u001b[0m   \u001b[0mtensor_value\u001b[0m \u001b[1;33m=\u001b[0m \u001b[0mattr_value_pb2\u001b[0m\u001b[1;33m.\u001b[0m\u001b[0mAttrValue\u001b[0m\u001b[1;33m(\u001b[0m\u001b[1;33m)\u001b[0m\u001b[1;33m\u001b[0m\u001b[0m\n\u001b[0;32m    101\u001b[0m   tensor_value.tensor.CopyFrom(\n\u001b[1;32m--> 102\u001b[1;33m       tensor_util.make_tensor_proto(value, dtype=dtype, shape=shape, verify_shape=verify_shape))\n\u001b[0m\u001b[0;32m    103\u001b[0m   \u001b[0mdtype_value\u001b[0m \u001b[1;33m=\u001b[0m \u001b[0mattr_value_pb2\u001b[0m\u001b[1;33m.\u001b[0m\u001b[0mAttrValue\u001b[0m\u001b[1;33m(\u001b[0m\u001b[0mtype\u001b[0m\u001b[1;33m=\u001b[0m\u001b[0mtensor_value\u001b[0m\u001b[1;33m.\u001b[0m\u001b[0mtensor\u001b[0m\u001b[1;33m.\u001b[0m\u001b[0mdtype\u001b[0m\u001b[1;33m)\u001b[0m\u001b[1;33m\u001b[0m\u001b[0m\n\u001b[0;32m    104\u001b[0m   const_tensor = g.create_op(\n",
      "\u001b[1;32m/usr/local/lib/python3.5/dist-packages/tensorflow/python/framework/tensor_util.py\u001b[0m in \u001b[0;36mmake_tensor_proto\u001b[1;34m(values, dtype, shape, verify_shape)\u001b[0m\n\u001b[0;32m    462\u001b[0m       raise TypeError(\"Failed to convert object of type %s to Tensor. \"\n\u001b[0;32m    463\u001b[0m                       \u001b[1;34m\"Contents: %s. Consider casting elements to a \"\u001b[0m\u001b[1;33m\u001b[0m\u001b[0m\n\u001b[1;32m--> 464\u001b[1;33m                       \"supported type.\" % (type(values), values))\n\u001b[0m\u001b[0;32m    465\u001b[0m     \u001b[0mtensor_proto\u001b[0m\u001b[1;33m.\u001b[0m\u001b[0mstring_val\u001b[0m\u001b[1;33m.\u001b[0m\u001b[0mextend\u001b[0m\u001b[1;33m(\u001b[0m\u001b[0mstr_values\u001b[0m\u001b[1;33m)\u001b[0m\u001b[1;33m\u001b[0m\u001b[0m\n\u001b[0;32m    466\u001b[0m     \u001b[1;32mreturn\u001b[0m \u001b[0mtensor_proto\u001b[0m\u001b[1;33m\u001b[0m\u001b[0m\n",
      "\u001b[1;31mTypeError\u001b[0m: Failed to convert object of type <class 'tensorflow.python.framework.sparse_tensor.SparseTensor'> to Tensor. Contents: SparseTensor(indices=Tensor(\"SparseTensor_6/indices:0\", shape=(5, 2), dtype=int64), values=Tensor(\"ones_2:0\", shape=(5,), dtype=float32), dense_shape=Tensor(\"SparseTensor_6/dense_shape:0\", shape=(2,), dtype=int64)). Consider casting elements to a supported type."
     ],
     "output_type": "error"
    }
   ],
   "source": [
    "# tags_sparse = tf.SparseTensor(indices=tags[1], values=tf.ones(len(tags[1])), dense_shape=(m, tags[0]))\n",
    "tags_actual = tf.SparseTensor(idx,v_idx,dense_shape=[batch_size])\n",
    "# embedding_var = tf.get_variable(name=\"embedding\", shape=[tags[0], k])\n",
    "# embedding_var = tf.get_variable(name=\"embedding\", shape=[tags[0], k])\n",
    "# tags_matrix = tf.constant(np.random.randint(0,2,size=(5,10)),dtype=tf.float32)\n",
    "tags_matrix = tf.SparseTensor([[0,0],[0,1],[1,3],[2,0],[2,1]],values=tf.ones([5]),dense_shape=[5,10])\n",
    "\n",
    "print(tags_matrix.eval())\n",
    "tags_embeddings = tf.nn.embedding_lookup_sparse(tags_matrix, tags_actual,None)\n",
    "sess.run(tf.global_variables_initializer())\n",
    "print(tags_actual.eval())\n",
    "# print(embedding_var.eval())\n",
    "print(sess.run(tags_embeddings)) # prints [  9.  36.  81.]"
   ]
  },
  {
   "cell_type": "code",
   "execution_count": 10,
   "metadata": {
    "collapsed": false
   },
   "outputs": [
    {
     "name": "stdout",
     "output_type": "stream",
     "text": [
      "[[ 2.  1.]\n [ 2.  2.]\n [ 0.  1.]]\nSparseTensorValue(indices=array([[0, 0],\n       [0, 1],\n       [1, 0],\n       [2, 0],\n       [2, 1]]), values=array([ 1.,  1.,  1.,  1.,  1.], dtype=float32), dense_shape=array([3, 2]))\n[[ 1.  1.]\n [ 1.  0.]\n [ 1.  1.]]\n"
     ]
    }
   ],
   "source": [
    "tags_matrix = tf.SparseTensor([[0,0],[0,1],[1,0],[2,0],[2,1]],values=tf.ones([5]),dense_shape=[3,2])\n",
    "prediction = tf.constant(np.random.randint(0,3,size=(3,2)),dtype=tf.float32)\n",
    "print(prediction.eval())\n",
    "print(tags_matrix.eval())\n",
    "print(tf.sparse_tensor_to_dense(tags_matrix).eval())"
   ]
  },
  {
   "cell_type": "code",
   "execution_count": 11,
   "metadata": {
    "collapsed": true
   },
   "outputs": [
    {
     "name": "stdout",
     "output_type": "stream",
     "text": [
      "[[ 3.  4.  1.]\n [ 2.  2.  0.]\n [ 3.  4.  1.]]\n"
     ]
    }
   ],
   "source": [
    "logits = tf.sparse_tensor_dense_matmul(tags_matrix,tf.transpose(prediction))\n",
    "print(logits.eval())"
   ]
  },
  {
   "cell_type": "code",
   "execution_count": null,
   "metadata": {},
   "outputs": [],
   "source": [
    ""
   ]
  }
 ],
 "metadata": {
  "kernelspec": {
   "display_name": "Python 2",
   "language": "python",
   "name": "python2"
  },
  "language_info": {
   "codemirror_mode": {
    "name": "ipython",
    "version": 2.0
   },
   "file_extension": ".py",
   "mimetype": "text/x-python",
   "name": "python",
   "nbconvert_exporter": "python",
   "pygments_lexer": "ipython2",
   "version": "2.7.6"
  }
 },
 "nbformat": 4,
 "nbformat_minor": 0
}