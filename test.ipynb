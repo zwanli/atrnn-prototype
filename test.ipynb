{
 "cells": [
  {
   "cell_type": "code",
   "execution_count": 1,
   "metadata": {},
   "outputs": [],
   "source": [
    "import os\n",
    "import csv\n",
    "from nltk.tokenize import sent_tokenize\n",
    "from nltk.tokenize import word_tokenize\n",
    "import argparse\n",
    "import ntpath\n",
    "import sys\n",
    "import tensorflow as tf\n",
    "import numpy as np\n",
    "import datetime\n",
    "from prettytable import PrettyTable\n",
    "import pandas as pd\n",
    "import matplotlib.pyplot as plt\n",
    "import matplotlib\n",
    "%matplotlib inline\n",
    "from preprocessing import is_number"
   ]
  },
  {
   "cell_type": "code",
   "execution_count": 2,
   "metadata": {
    "collapsed": false
   },
   "outputs": [
    {
     "name": "stderr",
     "output_type": "stream",
     "text": [
      "/usr/local/lib/python3.5/dist-packages/ipykernel_launcher.py:32: ParserWarning: Both a converter and dtype were specified for column doc_id - only the converter will be used\n/usr/local/lib/python3.5/dist-packages/ipykernel_launcher.py:32: ParserWarning: Both a converter and dtype were specified for column citeulike_id - only the converter will be used\n/usr/local/lib/python3.5/dist-packages/ipykernel_launcher.py:32: ParserWarning: Both a converter and dtype were specified for column pages - only the converter will be used\n"
     ]
    }
   ],
   "source": [
    "path = '/home/wanli/data/Extended_ctr/citeulike_a_extended/paper_info.csv'\n",
    "null_token = 'NaN'\n",
    "now = datetime.datetime.now()\n",
    "    \n",
    "clean_file_path = path +'.cleaned'\n",
    "\n",
    "\n",
    "# Month converter\n",
    "months = ['apr','aug', 'dec','feb', 'jan' ,'jul' ,'jun' ,'mar' ,'may', 'nov', 'oct', 'sep']\n",
    "month_convert_func = lambda x: x if x in months else null_token\n",
    "\n",
    "def number_convert_func (x):\n",
    "    if is_number(x):\n",
    "        return x\n",
    "    else:\n",
    "        print(x)\n",
    "        return null_token\n",
    "    \n",
    "labels = ['doc_id', 'citeulike_id', 'type', 'pages', 'year']\n",
    "labels_dtype = {'doc_id': np.int32, 'citeulike_id': np.int32, 'type': str, 'pages': np.int32}\n",
    "convert_func= {'pages': number_convert_func, 'doc_id': number_convert_func,\n",
    "               'citeulike_id': number_convert_func}\n",
    "# labels = ['doc_id', 'citeulike_id', 'type', 'journal', 'booktitle', 'series', 'pages', 'year', 'month', 'address']\n",
    "# labels_dtype = {'doc_id': np.int32, 'citeulike_id': np.int32, 'type': str, 'journal': str, 'booktitle': str,\n",
    "#                 'series': str,\n",
    "#                 'pages': np.int32, 'month': str, 'address': str}\n",
    "# convert_func = {'month': month_convert_func, 'pages': number_convert_func, 'doc_id': number_convert_func,\n",
    "#                 'citeulike_id': number_convert_func}\n",
    "\n",
    "df = pd.read_table(clean_file_path, delimiter='\\t', index_col = 'doc_id', usecols=labels,dtype=labels_dtype,\n",
    "                     na_values='\\\\N',na_filter=False,\n",
    "                     converters=convert_func)"
   ]
  },
  {
   "cell_type": "code",
   "execution_count": 3,
   "metadata": {
    "collapsed": false
   },
   "outputs": [
    {
     "name": "stdout",
     "output_type": "stream",
     "text": [
      "(16981, 4)\nciteulike_id    16962\ntype               15\npages             263\nyear               88\ndtype: int64\n"
     ]
    }
   ],
   "source": [
    "print(df.shape)\n",
    "# count of unique values:\n",
    "print (df.apply(pd.Series.nunique))"
   ]
  },
  {
   "cell_type": "code",
   "execution_count": 4,
   "metadata": {
    "collapsed": true
   },
   "outputs": [
    {
     "name": "stdout",
     "output_type": "stream",
     "text": [
      "(16981, 4)\nciteulike_id    16962\ntype               15\npages             263\nyear               88\ndtype: int64\n"
     ]
    }
   ],
   "source": [
    "#Filter values with frequency less than min_freq\n",
    "def filter(df, tofilter_list, min_freq):\n",
    "    for col in tofilter_list:\n",
    "        to_keep =  df[col].value_counts().reset_index(name=\"count\").query(\"count > %d\" %min_freq)[\"index\"]\n",
    "        to_keep = to_keep.values.tolist()\n",
    "        df[col] = [x if x in to_keep else 'NaN' for x in df[col] ]\n",
    "    return df\n",
    "\n",
    "tofilter_list = []\n",
    "df = filter(df,tofilter_list,2)\n",
    "print(df.shape)\n",
    "print (df.apply(pd.Series.nunique))\n",
    "\n",
    "# \n",
    "# # Convert catigorical feature into one-hot encoding\n",
    "# def dummmy_df(df, todummy_list):\n",
    "#     for x in todummy_list:\n",
    "#         dummies = pd.get_dummies(df[x], prefix=x, dummy_na=True)\n",
    "#         df = df.drop(x,1)\n",
    "#         df = pd.concat([df,dummies], axis=1)\n",
    "#     return df\n",
    "\n",
    "# todummy_list = ['type']\n",
    "# df_dummy = dummmy_df(df,todummy_list)\n",
    "# # print(df_dummy.head(2))\n",
    "# # print (df2)\n",
    "# print('----------------------------')\n",
    "# # print (df_dummy['journal'].value_counts())\n",
    "# # .reset_index(name=\"count\").query(\"count > 3\")[\"index\"]\n",
    "# print('----------------------------')\n",
    "# print(df_dummy.shape)\n",
    "# print (df_dummy.apply(pd.Series.nunique))"
   ]
  },
  {
   "cell_type": "code",
   "execution_count": 5,
   "metadata": {
    "collapsed": true
   },
   "outputs": [
    {
     "name": "stdout",
     "output_type": "stream",
     "text": [
      "['NaN' '4' '5' '8' '7' '12' '2' '3' '28' '10' '17' '9' '42' '203' '14' '11'\n '6' '20' '19' '18' '16' '56' '13' '29' '41' '39' '15' '40' '22' '31' '25'\n '23' '59' '27' '48' '33' '35' '34' '51' '30' '60' '43' '32' '24' '83' '1'\n '21' '70' '37' '46' '62' '53' '45' '26' '36' '38' '47' '44' '-1591'\n '-2546' '50' '74' '57' '-275' '49' '573' '-187' '-1825' '-9796' '-1585'\n '-87' '-374' '-395' '-96' '-86' '-284' '-93' '-681' '-387' '-134' '-476'\n '-696' '-1691' '-524' '-94' '-2389' '-177' '-595' '-2189' '-363' '-4495'\n '-292' '-12835' '-688' '-796' '-537' '-15515' '-1595' '-2114' '-191'\n '-144' '-391' '-297' '-10605' '-397' '-1196' '-1994' '-482' '-5935'\n '-2356' '-317' '-616' '-189' '-415' '-1089' '-57' '-693' '90' '54' '52'\n '63' '-385' '-64' '-1297' '55' '97' '65' '-789' '-280' '-173' '77' '-73'\n '-994' '-3289' '-433' '85' '-84' '261' '58' '66' '-388' '-1392' '108' '71'\n '-1070' '-370' '-1267' '-10906' '-88' '-194' '75' '68' '88' '-1896' '-163'\n '-95' '-12465' '-295' '-1940' '93' '73' '-845' '117' '92' '78' '64' '152'\n '-786' '61' '-77' '-1236' '-2393' '-5284' '133' '-10392' '-22' '-269'\n '-1195' '-165' '-208' '-797' '-2184' '-867' '-590' '-747' '-223' '-398'\n '-887' '-1939' '-714' '-695' '-603' '-70' '-151' '5992' '-68' '-262' '-2'\n '3643' '-1391' '132' '-357' '-1891' '-486' '-826' '-406' '-23' '-1473'\n '87' '-33' '-588' '-186' '-289' '-1093' '-286' '-1783' '-1092' '-687'\n '-91' '-1008' '-27' '-490' '-274' '-196' '76' '-188' '104' '-780' '-1062'\n '-896' '-467' '-1082' '-437' '-14' '89' '143' '144' '-795' '-155' '-373'\n '1575' '-471' '-3658' '1836' '-5793' '103' '-738' '72' '-1' '395' '134'\n '-4625' '124' '-378' '553' '-4376' '-140' '-15' '129' '69' '1694' '-1697'\n '-200896192']\nNaN      5649\n5        1013\n7        1000\n9         939\n4         760\n3         758\n6         752\n11        657\n8         640\n10        544\n12        413\n13        354\n2         308\n14        305\n15        238\n1         226\n16        191\n17        179\n19        138\n18        136\n20        128\n21        119\n22        106\n24         87\n23         82\n25         69\n29         68\n27         66\n30         64\n26         63\n         ... \n-33         1\n-370        1\n-165        1\n-186        1\n-1092       1\n-1267       1\n-163        1\n-91         1\n-603        1\n-1697       1\n-5284       1\n-1825       1\n-738        1\n-2189       1\n553         1\n-590        1\n-537        1\n134         1\n133         1\n-826        1\n-437        1\n152         1\n-1392       1\n-1896       1\n-1391       1\n-317        1\n-1891       1\n-357        1\n-1473       1\n-1691       1\nName: pages, Length: 263, dtype: int64\n"
     ]
    }
   ],
   "source": [
    "print (df.pages.unique())\n",
    "print (df.pages.value_counts())"
   ]
  },
  {
   "cell_type": "code",
   "execution_count": 6,
   "metadata": {
    "collapsed": false
   },
   "outputs": [
    {
     "name": "stdout",
     "output_type": "stream",
     "text": [
      "['NaN' '4' '5' ..., '8' 'NaN' '3']\n(array([-10,  -5,  -2,  -1,   1,   2,   3,   4,   5,   6,   7,   8,   9,\n        10,  11,  12,  13,  14,  15,  16,  17,  18,  19,  20,  21,  22,\n        23,  24,  25,  26,  27,  28,  29,  30,  31,  32,  33,  34,  35,\n        36,  37,  38,  39,  40,  41,  42,  43,  44,  45,  46,  47,  48,\n        49,  50,  51,  52,  53,  54,  55,  56,  57,  58,  59,  60,  61,\n        62,  63,  64,  65,  66,  68,  69,  70,  71,  72,  73,  74,  75,\n        76,  77,  78,  80]), array([ 177, 5649,    2,    1,  226,  308,  758,  760, 1013,  752, 1000,\n        640,  939,  544,  657,  413,  354,  305,  238,  191,  179,  136,\n        138,  128,  119,  106,   82,   87,   69,   63,   66,   53,   68,\n         64,   41,   38,   52,   49,   52,   37,   32,   19,   35,   21,\n         22,   19,   20,   12,   21,   17,   13,   15,   12,   13,   13,\n          7,   10,    6,    7,   10,    7,    4,    8,    8,    3,    4,\n          1,    3,    3,    3,    2,    1,    4,    1,    1,    1,    2,\n          2,    2,    2,    1,   40]))\n[-10.   -9.1  -8.2  -7.3  -6.4  -5.5  -4.6  -3.7  -2.8  -1.9  -1.   -0.1\n   0.8   1.7   2.6   3.5   4.4   5.3   6.2   7.1   8.    8.9   9.8  10.7\n  11.6  12.5  13.4  14.3  15.2  16.1  17.   17.9  18.8  19.7  20.6  21.5\n  22.4  23.3  24.2  25.1  26.   26.9  27.8  28.7  29.6  30.5  31.4  32.3\n  33.2  34.1  35.   35.9  36.8  37.7  38.6  39.5  40.4  41.3  42.2  43.1\n  44.   44.9  45.8  46.7  47.6  48.5  49.4  50.3  51.2  52.1  53.   53.9\n  54.8  55.7  56.6  57.5  58.4  59.3  60.2  61.1  62.   62.9  63.8  64.7\n  65.6  66.5  67.4  68.3  69.2  70.1  71.   71.9  72.8  73.7  74.6  75.5\n  76.4  77.3  78.2  79.1  80. ]\n"
     ]
    },
    {
     "data": {
      "image/png": "[encoded data removed]",
      "text/plain": [
       "<matplotlib.figure.Figure at 0x7f2888cf3160>"
      ]
     },
     "metadata": {},
     "output_type": "display_data"
    }
   ],
   "source": [
    "pages = df.pages.values\n",
    "print(pages)\n",
    "pages=np.asarray(pages)\n",
    "\n",
    "\n",
    "pages[pages == 'NaN'] = -5\n",
    "pages=pages.astype(int)\n",
    "\n",
    "pages[pages < -10] = -10\n",
    "pages[pages > 80] = 80\n",
    "fig = plt.figure()\n",
    "n, bins, patches = plt.hist(pages,bins=100)\n",
    "print(np.unique(pages,return_counts=True))\n",
    "\n",
    "print(bins)\n",
    "# l = plt.plot(bins)\n",
    "# fig = pages.plot.hist(y=idx).get_figure()\n",
    "plt.title(\"Pages histogram\")\n",
    "plt.xlabel(\"Number of pages\")\n",
    "plt.ylabel(\"Frequency\")\n",
    "plt.savefig('pages_hist.eps', format='eps', dpi=1000)\n",
    "plt.show()"
   ]
  },
  {
   "cell_type": "code",
   "execution_count": 7,
   "metadata": {
    "collapsed": true
   },
   "outputs": [
    {
     "name": "stdout",
     "output_type": "stream",
     "text": [
      "['NaN' '2004' '2002' '2001' '2000' '2003' '1998' '1999' '-1' '2005' '1993'\n '1994' '1962' '2006' '1997' '1996' '1992' '1986' '1988' '1995' '1991'\n '1985' '2007' '1990' '1989' '1987' '1976' '1978' '1982' '1950' '1961'\n '1979' '1972' '1974' '1973' '1981' '1970' '1965' '1968' '1975' '1983'\n '1984' '1980' '1971' '1957' '1960' '1948' '1977' '1912' '1929' '1952'\n '1969' '1956' '1967' '1949' '2009' '1946' '1936' '1966' '1964' '1941'\n '1958' '2013' '1959' '1935' '2014' '2015' '2010' '1953' '1963' '1943'\n '1951' '1871' '1947' '1954' '2011' '2008' '1944' '1955' '2016' '1899'\n '20060100' '1896' '3' '0' '1940' '1893' '2012']\n2007        1562\n2005        1542\n2008        1523\n2006        1505\n2009        1341\n2004        1315\n2003        1039\n2002         927\n2001         803\n2010         701\n2000         691\n-1           634\n1999         539\n1998         450\n1997         321\n1996         283\n1995         228\n1994         193\n1993         153\n1992         127\n1991         111\n1990         108\n1989          82\n1988          80\n1987          73\n1986          62\n1985          49\n1984          38\n1983          32\n1979          31\n            ... \n1950           4\n2013           3\n1966           3\n1946           3\n1949           3\n1953           3\n1959           2\n2016           2\n2014           2\n1936           2\n1958           2\n1948           2\n1947           2\n2012           2\n1943           2\n1940           1\n1935           1\n1896           1\n1955           1\n20060100       1\n1899           1\n1871           1\n1912           1\n3              1\n1944           1\n1951           1\n0              1\n1893           1\n1941           1\n1929           1\nName: year, Length: 88, dtype: int64\n"
     ]
    }
   ],
   "source": [
    "print (df.year.unique())\n",
    "print (df.year.value_counts())"
   ]
  },
  {
   "cell_type": "code",
   "execution_count": 10,
   "metadata": {},
   "outputs": [
    {
     "name": "stdout",
     "output_type": "stream",
     "text": [
      "[ 1850.    1851.75  1853.5   1855.25  1857.    1858.75  1860.5   1862.25\n  1864.    1865.75  1867.5   1869.25  1871.    1872.75  1874.5   1876.25\n  1878.    1879.75  1881.5   1883.25  1885.    1886.75  1888.5   1890.25\n  1892.    1893.75  1895.5   1897.25  1899.    1900.75  1902.5   1904.25\n  1906.    1907.75  1909.5   1911.25  1913.    1914.75  1916.5   1918.25\n  1920.    1921.75  1923.5   1925.25  1927.    1928.75  1930.5   1932.25\n  1934.    1935.75  1937.5   1939.25  1941.    1942.75  1944.5   1946.25\n  1948.    1949.75  1951.5   1953.25  1955.    1956.75  1958.5   1960.25\n  1962.    1963.75  1965.5   1967.25  1969.    1970.75  1972.5   1974.25\n  1976.    1977.75  1979.5   1981.25  1983.    1984.75  1986.5   1988.25\n  1990.    1991.75  1993.5   1995.25  1997.    1998.75  2000.5   2002.25\n  2004.    2005.75  2007.5   2009.25  2011.    2012.75  2014.5   2016.25\n  2018.    2019.75  2021.5   2023.25  2025.  ]\n"
     ]
    },
    {
     "data": {
      "image/png": "[encoded data removed]",
      "text/plain": [
       "<matplotlib.figure.Figure at 0x7f2888bd9ef0>"
      ]
     },
     "metadata": {},
     "output_type": "display_data"
    }
   ],
   "source": [
    "year = df.year.values\n",
    "year=np.asarray(year)\n",
    "year[year == 'NaN'] = 2025\n",
    "# counts_nan = np.count_nonzero(np.isnan(year.astype(float)))\n",
    "# print(counts_nan)\n",
    "year=year.astype(int)\n",
    "year[year < 1850] = 1850\n",
    "year[(year > 2017) & (year != 2025)] = 2020\n",
    "fig = plt.figure()\n",
    "n, bins, patches = plt.hist(year,bins=100)\n",
    "print(bins)\n",
    "# l = plt.plot(bins)\n",
    "\n",
    "# fig = pages.plot.hist(y=idx).get_figure()\n",
    "plt.title(\"Years histogram\")\n",
    "plt.xlabel(\"Year\")\n",
    "plt.ylabel(\"Frequency\")\n",
    "plt.savefig('year_hist.eps', format='eps', dpi=1000)\n",
    "plt.show()"
   ]
  },
  {
   "cell_type": "code",
   "execution_count": 18,
   "metadata": {},
   "outputs": [
    {
     "name": "stdout",
     "output_type": "stream",
     "text": [
      "[-10 '2004' '2002' ..., '2011' '2010' '2011']\n20\n"
     ]
    }
   ],
   "source": [
    "ye2 = df.year.values\n",
    "print(ye2)\n",
    "ye2=np.asarray(ye2)\n",
    "ye2[ye2 == 'NaN'] = -10\n",
    "print(len(ye2[ye2 == -10]))"
   ]
  },
  {
   "cell_type": "code",
   "execution_count": 6,
   "metadata": {
    "collapsed": false
   },
   "outputs": [
    {
     "name": "stdout",
     "output_type": "stream",
     "text": [
      "article          12202\ninproceedings     2088\nbook              1490\nmisc               396\nelectronic         207\nproceedings        169\ntechreport         160\nincollection       124\ninbook              54\nunpublished         36\nphdthesis           25\nNaN                 20\nmastersthesis        7\nmanual               2\nbooklet              1\nName: type, dtype: int64\n"
     ]
    }
   ],
   "source": [
    "print (df.type.value_counts())"
   ]
  },
  {
   "cell_type": "code",
   "execution_count": 5,
   "metadata": {
    "collapsed": false
   },
   "outputs": [
    {
     "name": "stdout",
     "output_type": "stream",
     "text": [
      "(16981, 19)\n(16981, 19)\nciteulike_id          16962\npages                   263\nyear                     88\ntype_NaN                  2\ntype_article              2\ntype_book                 2\ntype_booklet              2\ntype_electronic           2\ntype_inbook               2\ntype_incollection         2\ntype_inproceedings        2\ntype_manual               2\ntype_mastersthesis        2\ntype_misc                 2\ntype_phdthesis            2\ntype_proceedings          2\ntype_techreport           2\ntype_unpublished          2\ntype_nan                  1\ndtype: int64\n"
     ]
    }
   ],
   "source": [
    "print(df_dummy.shape)\n",
    "df_dummy.dropna(inplace=True)\n",
    "print(df_dummy.shape)\n",
    "print (df_dummy.apply(pd.Series.nunique))"
   ]
  },
  {
   "cell_type": "code",
   "execution_count": 4,
   "metadata": {},
   "outputs": [
    {
     "name": "stdout",
     "output_type": "stream",
     "text": [
      "0\n"
     ]
    }
   ],
   "source": [
    "# min-max normalization:\n",
    "from sklearn import preprocessing\n",
    "\n",
    "# x = df.loc[:,todummy_list].values #returns a numpy array\n",
    "# min_max_scaler = preprocessing.MinMaxScaler()\n",
    "# x_scaled = min_max_scaler.fit_transform(x)\n",
    "# df.loc[:,todummy_list] = pandas.DataFrame(x_scaled)\n",
    "\n",
    "values = df.values\n",
    "imputer = preprocessing.Imputer()\n",
    "transformed_values = imputer.fit_transform(values)\n",
    "# count the number of NaN values in each column\n",
    "print(np.isnan(transformed_values).sum())\n",
    "\n",
    "min_max_scaler = preprocessing.MinMaxScaler()\n",
    "x_scaled = min_max_scaler.fit_transform(transformed_values)\n",
    "transformed_df= pd.DataFrame(x_scaled)"
   ]
  },
  {
   "cell_type": "code",
   "execution_count": 5,
   "metadata": {
    "collapsed": false
   },
   "outputs": [
    {
     "name": "stdout",
     "output_type": "stream",
     "text": [
      "(25976, 1893)\n(25976, 1893)\n"
     ]
    }
   ],
   "source": [
    "print(transformed_df.shape)\n",
    "print(x_scaled.shape)\n",
    "# print(transformed_df.nunique())\n",
    "# print (transformed_df.head(2))"
   ]
  },
  {
   "cell_type": "code",
   "execution_count": 13,
   "metadata": {
    "collapsed": false
   },
   "outputs": [
    {
     "name": "stdout",
     "output_type": "stream",
     "text": [
      "(25976, 1893)\n(1893,)\n"
     ]
    },
    {
     "name": "stderr",
     "output_type": "stream",
     "text": [
      "/usr/local/lib/python3.5/dist-packages/sklearn/discriminant_analysis.py:388: UserWarning: Variables are collinear.\n  warnings.warn(\"Variables are collinear.\")\n"
     ]
    },
    {
     "name": "stderr",
     "output_type": "stream",
     "text": [
      "/usr/local/lib/python3.5/dist-packages/sklearn/discriminant_analysis.py:388: UserWarning: Variables are collinear.\n  warnings.warn(\"Variables are collinear.\")\n"
     ]
    },
    {
     "name": "stderr",
     "output_type": "stream",
     "text": [
      "/usr/local/lib/python3.5/dist-packages/sklearn/discriminant_analysis.py:388: UserWarning: Variables are collinear.\n  warnings.warn(\"Variables are collinear.\")\n"
     ]
    },
    {
     "name": "stdout",
     "output_type": "stream",
     "text": [
      "0.491811938722\n"
     ]
    }
   ],
   "source": [
    "from sklearn.discriminant_analysis import LinearDiscriminantAnalysis\n",
    "from sklearn.model_selection import KFold\n",
    "from sklearn.model_selection import cross_val_score\n",
    "# training= np.random.randint(2, size=(x_scaled.shape[0],x_scaled.shape[1]+1))\n",
    "# training[:,:-1] = x_scaled\n",
    "\n",
    "y= np.random.randint(2, size=(x_scaled.shape[1]))\n",
    "# y= y.reshape((y.shape[0],1))\n",
    "print(x_scaled.shape)\n",
    "print(y.shape)\n",
    "\n",
    "# evaluate an LDA model on the dataset using k-fold cross validation\n",
    "model = LinearDiscriminantAnalysis()\n",
    "kfold = KFold(n_splits=3, random_state=7)\n",
    "result = cross_val_score(model, np.transpose(np.matrix(x_scaled)), np.transpose(y), cv=kfold, scoring='accuracy')\n",
    "print(result.mean())"
   ]
  },
  {
   "cell_type": "code",
   "execution_count": 3,
   "metadata": {},
   "outputs": [
    {
     "name": "stderr",
     "output_type": "stream",
     "text": [
      "Using TensorFlow backend.\n"
     ]
    },
    {
     "name": "stderr",
     "output_type": "stream",
     "text": [
      "2017-10-01 22:49:37,599 : INFO : 'pattern' package not found; tag filters are not available for English\n"
     ]
    }
   ],
   "source": [
    "import logging\n",
    "logging.basicConfig(format='%(asctime)s : %(levelname)s : %(message)s', level=logging.INFO)\n",
    "from nltk.tokenize import sent_tokenize\n",
    "from nltk.tokenize import word_tokenize\n",
    "import os\n",
    "from gensim import corpora\n",
    "import gensim"
   ]
  },
  {
   "cell_type": "code",
   "execution_count": 6,
   "metadata": {},
   "outputs": [
    {
     "name": "stderr",
     "output_type": "stream",
     "text": [
      "2017-10-01 22:52:16,103 : INFO : loading projection weights from /home/wanli/data/word_embeddings.txt\n"
     ]
    },
    {
     "name": "stderr",
     "output_type": "stream",
     "text": [
      "2017-10-01 22:52:59,142 : INFO : loaded (302775, 200) matrix from /home/wanli/data/word_embeddings.txt\n"
     ]
    }
   ],
   "source": [
    "fname ='/home/wanli/data/word_embeddings.txt'\n",
    "model = gensim.models.KeyedVectors.load_word2vec_format(fname, binary=False)"
   ]
  },
  {
   "cell_type": "code",
   "execution_count": 7,
   "metadata": {},
   "outputs": [
    {
     "data": {
      "text/plain": [
       "-0.003150100318443387"
      ]
     },
     "execution_count": 7,
     "metadata": {},
     "output_type": "execute_result"
    }
   ],
   "source": [
    "model.wv.similarity('information', 'system')"
   ]
  },
  {
   "cell_type": "code",
   "execution_count": 22,
   "metadata": {
    "collapsed": true
   },
   "outputs": [
    {
     "data": {
      "text/plain": [
       "[('sanchez', 0.5267158150672913),\n ('kelleher', 0.5113817453384399),\n ('wrath', 0.5070061683654785),\n ('yoatl', 0.47525104880332947),\n ('girl', 0.4729466438293457),\n ('tollu', 0.47179219126701355),\n ('lich', 0.4713619351387024),\n ('businessman', 0.47063136100769043),\n ('mansion', 0.47035470604896545),\n ('ruth', 0.4694134294986725)]"
      ]
     },
     "execution_count": 22,
     "metadata": {},
     "output_type": "execute_result"
    }
   ],
   "source": [
    "model.wv.most_similar(positive=['woman', 'king'], negative=['man'])"
   ]
  },
  {
   "cell_type": "code",
   "execution_count": 27,
   "metadata": {},
   "outputs": [
    {
     "data": {
      "text/plain": [
       "[('program', 0.9820653200149536),\n ('compiler', 0.9291761517524719),\n ('instructions', 0.9030072689056396),\n ('binaries', 0.9001923203468323),\n ('c/c++', 0.8978627324104309),\n ('applet', 0.8968085050582886),\n ('firmware', 0.891533374786377),\n ('eprom', 0.8878062963485718),\n ('debugger', 0.8845652341842651),\n ('pc', 0.8814089894294739)]"
      ]
     },
     "execution_count": 27,
     "metadata": {},
     "output_type": "execute_result"
    }
   ],
   "source": [
    "model.wv.most_similar_cosmul(positive=['computer', 'code'], negative=['biology'])"
   ]
  },
  {
   "cell_type": "code",
   "execution_count": 35,
   "metadata": {},
   "outputs": [
    {
     "data": {
      "text/plain": [
       "[('recommendation', 0.8478092551231384),\n ('recommenders', 0.636306643486023),\n ('personalization', 0.596664309501648),\n ('tagir', 0.5812981724739075),\n ('question-answering', 0.5709900856018066),\n ('e-learning', 0.5520929098129272),\n ('collaborative-filtering', 0.5501213073730469),\n ('tagging', 0.5483794808387756),\n ('personalized', 0.546078085899353),\n ('cbir', 0.5428563952445984)]"
      ]
     },
     "execution_count": 35,
     "metadata": {},
     "output_type": "execute_result"
    }
   ],
   "source": [
    "model.wv.most_similar(positive=['recommender'])"
   ]
  },
  {
   "cell_type": "code",
   "execution_count": null,
   "metadata": {},
   "outputs": [],
   "source": [
    ""
   ]
  }
 ],
 "metadata": {
  "kernelspec": {
   "display_name": "Python 2",
   "language": "python",
   "name": "python2"
  },
  "language_info": {
   "codemirror_mode": {
    "name": "ipython",
    "version": 2.0
   },
   "file_extension": ".py",
   "mimetype": "text/x-python",
   "name": "python",
   "nbconvert_exporter": "python",
   "pygments_lexer": "ipython2",
   "version": "2.7.6"
  }
 },
 "nbformat": 4,
 "nbformat_minor": 0
}